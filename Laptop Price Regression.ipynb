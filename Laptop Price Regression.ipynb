{
 "cells": [
  {
   "cell_type": "markdown",
   "id": "e5e6dd01-3e3e-4f57-867a-82d8aadeb15e",
   "metadata": {},
   "source": [
    "## Laptop Price Prediction- Regression"
   ]
  },
  {
   "cell_type": "markdown",
   "id": "1730ad9c-8b67-401c-9194-830342b19e2d",
   "metadata": {},
   "source": [
    "<img src='https://rukminim2.flixcart.com/image/850/1000/kmuxevk0/laptop-accessories-combo/c/w/m/great-design-4-in-1-laptop-skin-pack-with-screen-guard-key-original-imagfnvat45hvhxn.jpeg?q=20&crop=false' >"
   ]
  },
  {
   "cell_type": "markdown",
   "id": "ffd426d0-de35-462e-828b-702a04fc8a4b",
   "metadata": {},
   "source": [
    "project link: https://www.kaggle.com/datasets/mrsimple07/laptoppricepredictions"
   ]
  },
  {
   "cell_type": "markdown",
   "id": "2bc4b5b6-df66-4591-9730-7731fcb3ce32",
   "metadata": {},
   "source": [
    "* Bu çalışmanın amacı, bir laptop modelinin fiyatını, model özelliklerinden oluşan bir regresyon modeli kullanarak tahmin etmektir. Veri seti, çeşitli laptop modellerinin teknik özelliklerini ve fiyatlarını içermektedir. Bağımsız değişkenler olarak; bellek hızı, cihaz ağırlığı, ekran boyutu, ekran kartı bellek tipi ve kapasitesi, ekran panel tipi, işlemci özellikleri, işletim sistemi, kart okuyucu, aydınlatma, maksimum işlemci hızı, ekran çözünürlüğü, parmak izi okuyucu, RAM kapasitesi ve SSD kapasitesi kullanılmıştır. Bağımlı değişken ise fiyattır.\n",
    "\n",
    "Veri setindeki eksik verileri tamamlayıp  gerekli dönüşümler yapacağız. Ardından, regresyon modeli oluşturup, model performansı değerlendireceğiz. Sonuçlarda seçilen özelliklerden oluşan regresyon modelinin fiyat tahmininde yüksek doğruluk sağladığını göstermeyi hedefliyoruz. Elde edilen model, yeni laptop modellerinin fiyatlarını öngörmek için kullanılabilir."
   ]
  },
  {
   "cell_type": "markdown",
   "id": "c64ecf41-6b9e-4e2f-a375-2eb8905f2339",
   "metadata": {},
   "source": [
    "# Data Dictionary"
   ]
  },
  {
   "cell_type": "markdown",
   "id": "00fc05a7-9a69-4e99-ab97-13a627a697d1",
   "metadata": {},
   "source": [
    "1. **Bellek Hızı**: Sistemin RAM bellek modüllerinin hızı, genellikle MHz cinsinden ifade edilir.\n",
    "2. **Cihaz Ağırlığı**: Laptop'un ağırlığı, genellikle kilogram (kg) olarak belirtilir.\n",
    "3. **Ekran Boyutu**: Ekranın fiziksel boyutu, genellikle inç cinsinden ifade edilir (örn. 15.6 inç).\n",
    "4. **Ekran Kartı Bellek Tipi**: Laptop'un dahili ekran kartının bellek tipi, genellikle GDDR5, GDDR6 gibi ifade edilir.\n",
    "5. **Ekran Kartı Hafızası**: Ekran kartının sahip olduğu bellek kapasitesi, genellikle GB cinsinden belirtilir.\n",
    "6. **Ekran Kartı Tipi**: Laptop'un kullandığı ekran kartı modeli (örn. NVIDIA GeForce RTX 3060).\n",
    "7. **Ekran Panel Tipi**: Ekranın panel teknolojisi, genellikle IPS, OLED, LCD gibi ifade edilir.\n",
    "8. **İşlemci Nesli**: İşlemcinin üretildiği dönem, genellikle \"10. nesil\", \"11. nesil\" gibi gösterilir.\n",
    "9. **İşlemci**: Laptop'un kullandığı işlemci modeli (örn. Intel Core i5-11400H).\n",
    "10. **İşletim Sistemi**: Laptop'un yüklü olan işletim sistemi (Windows, macOS, Linux vb.).\n",
    "11. **Kart Okuyucu**: Laptop'un sahip olduğu kart okuyucu özellikleri (SD, microSD, CF kart vb.).\n",
    "12. **Aydınlatma**: Klavye aydınlatması veya diğer aydınlatma özellikleri.\n",
    "13. **Maksimum İşlemci Hızı**: İşlemcinin en yüksek çalışma hızı, genellikle GHz cinsinden ifade edilir.\n",
    "14. **Max Ekran Çözünürlüğü**: Ekranın desteklediği maksimum çözünürlük, genellikle piksel cinsinden belirtilir (örn. 1920x1080).\n",
    "15. **Parmak İzi Okuyucu**: Laptop'un parmak izi okuma özelliği olup olmadığı.\n",
    "16. **Ram (Sistem Belleği)**: Laptop'un sahip olduğu sistem belleği miktarı, genellikle GB cinsinden ifade edilir.\n",
    "17. **SSD Kapasitesi**: Laptop'un sahip olduğu SSD (Solid State Drive) depolama kapasitesi, genellikle GB cinsinden belirtilir.\n",
    "18. **Ürün Modeli**: Laptop'un model adı veya numarası.\n",
    "19. **Fiyat**: Laptop'un satış fiyatı.\n"
   ]
  },
  {
   "cell_type": "markdown",
   "id": "e4c7e6b2-f2ec-4056-a5ef-6af0b9da09c4",
   "metadata": {},
   "source": [
    "* Grekli paketlerin importu"
   ]
  },
  {
   "cell_type": "code",
   "execution_count": 1,
   "id": "a16a4ef9",
   "metadata": {},
   "outputs": [],
   "source": [
    "import pandas as pd\n",
    "import plotly.express as px\n",
    "import matplotlib.pyplot as plt\n",
    "import seaborn as sns\n",
    "import numpy as np\n",
    "import re\n",
    "\n",
    "from sklearn.linear_model import LinearRegression\n",
    "from sklearn.model_selection import train_test_split\n",
    "from sklearn.metrics import r2_score, mean_squared_error\n",
    "from sklearn.linear_model import Ridge, Lasso, ElasticNet"
   ]
  },
  {
   "cell_type": "markdown",
   "id": "8ec8301f-3728-4c47-9ef2-c877e6e2c87c",
   "metadata": {},
   "source": [
    "## EDA"
   ]
  },
  {
   "cell_type": "code",
   "execution_count": 2,
   "id": "99d5e1ae",
   "metadata": {},
   "outputs": [],
   "source": [
    "df1=pd.read_excel('data.xlsx')"
   ]
  },
  {
   "cell_type": "code",
   "execution_count": 3,
   "id": "4845e12a",
   "metadata": {
    "scrolled": true
   },
   "outputs": [
    {
     "data": {
      "text/html": [
       "<div>\n",
       "<style scoped>\n",
       "    .dataframe tbody tr th:only-of-type {\n",
       "        vertical-align: middle;\n",
       "    }\n",
       "\n",
       "    .dataframe tbody tr th {\n",
       "        vertical-align: top;\n",
       "    }\n",
       "\n",
       "    .dataframe thead th {\n",
       "        text-align: right;\n",
       "    }\n",
       "</style>\n",
       "<table border=\"1\" class=\"dataframe\">\n",
       "  <thead>\n",
       "    <tr style=\"text-align: right;\">\n",
       "      <th></th>\n",
       "      <th>Bellek Hızı</th>\n",
       "      <th>Cihaz Ağırlığı</th>\n",
       "      <th>Ekran Boyutu</th>\n",
       "      <th>Ekran Kartı Bellek Tipi</th>\n",
       "      <th>Ekran Kartı Hafızası</th>\n",
       "      <th>Ekran Kartı Tipi</th>\n",
       "      <th>Ekran Panel Tipi</th>\n",
       "      <th>İşlemci Nesli</th>\n",
       "      <th>İşlemci</th>\n",
       "      <th>İşletim Sistemi</th>\n",
       "      <th>Kart Okuyucu</th>\n",
       "      <th>Aydınlatma</th>\n",
       "      <th>Maksimum İşlemci Hızı</th>\n",
       "      <th>Max Ekran Çözünürlüğü</th>\n",
       "      <th>Parmak İzi Okuyucu</th>\n",
       "      <th>Ram (Sistem Belleği)</th>\n",
       "      <th>SSD Kapasitesi</th>\n",
       "      <th>Ürün Modeli</th>\n",
       "      <th>Fiyat</th>\n",
       "    </tr>\n",
       "  </thead>\n",
       "  <tbody>\n",
       "    <tr>\n",
       "      <th>955</th>\n",
       "      <td>NaN</td>\n",
       "      <td>1 - 2 kg</td>\n",
       "      <td>13 inç</td>\n",
       "      <td>NaN</td>\n",
       "      <td>NaN</td>\n",
       "      <td>NaN</td>\n",
       "      <td>IPS</td>\n",
       "      <td>NaN</td>\n",
       "      <td>Apple M2</td>\n",
       "      <td>macOS</td>\n",
       "      <td>NaN</td>\n",
       "      <td>0</td>\n",
       "      <td>NaN</td>\n",
       "      <td>2560 x 1600</td>\n",
       "      <td>NaN</td>\n",
       "      <td>8 GB</td>\n",
       "      <td>256 GB</td>\n",
       "      <td>Notebook</td>\n",
       "      <td>Yüksek</td>\n",
       "    </tr>\n",
       "    <tr>\n",
       "      <th>759</th>\n",
       "      <td>3200 MHz</td>\n",
       "      <td>2 kg ve Altı</td>\n",
       "      <td>14 inç</td>\n",
       "      <td>Onboard</td>\n",
       "      <td>Paylaşımlı</td>\n",
       "      <td>Dahili Ekran Kartı</td>\n",
       "      <td>IPS</td>\n",
       "      <td>5.Nesil</td>\n",
       "      <td>5625U</td>\n",
       "      <td>Yok (Free Dos)</td>\n",
       "      <td>Yok</td>\n",
       "      <td>1</td>\n",
       "      <td>4,3 GHz</td>\n",
       "      <td>1920 x 1080</td>\n",
       "      <td>Yok</td>\n",
       "      <td>16 GB</td>\n",
       "      <td>1 TB</td>\n",
       "      <td>Notebook</td>\n",
       "      <td>Düşük</td>\n",
       "    </tr>\n",
       "    <tr>\n",
       "      <th>694</th>\n",
       "      <td>4800 MHz</td>\n",
       "      <td>2 - 4 kg</td>\n",
       "      <td>17 inç</td>\n",
       "      <td>GDDR6</td>\n",
       "      <td>8 GB</td>\n",
       "      <td>Harici Ekran Kartı</td>\n",
       "      <td>TN</td>\n",
       "      <td>13.Nesil</td>\n",
       "      <td>13700HX</td>\n",
       "      <td>Windows 11 Pro</td>\n",
       "      <td>Var</td>\n",
       "      <td>1</td>\n",
       "      <td>5,5 Ghz</td>\n",
       "      <td>2560 x 1600</td>\n",
       "      <td>Var</td>\n",
       "      <td>64 GB</td>\n",
       "      <td>2 TB</td>\n",
       "      <td>Notebook</td>\n",
       "      <td>Çok Yüksek</td>\n",
       "    </tr>\n",
       "    <tr>\n",
       "      <th>471</th>\n",
       "      <td>4800 MHz</td>\n",
       "      <td>2 - 4 kg</td>\n",
       "      <td>16,1 inç</td>\n",
       "      <td>GDDR6</td>\n",
       "      <td>4 GB</td>\n",
       "      <td>Harici Ekran Kartı</td>\n",
       "      <td>IPS</td>\n",
       "      <td>12.Nesil</td>\n",
       "      <td>12500H</td>\n",
       "      <td>Yok (Free Dos)</td>\n",
       "      <td>Var</td>\n",
       "      <td>1</td>\n",
       "      <td>4,2 GHz</td>\n",
       "      <td>1920 x 1080</td>\n",
       "      <td>Yok</td>\n",
       "      <td>16 GB</td>\n",
       "      <td>512 GB</td>\n",
       "      <td>Oyun Bilgisayarları</td>\n",
       "      <td>Orta</td>\n",
       "    </tr>\n",
       "    <tr>\n",
       "      <th>748</th>\n",
       "      <td>3200 MHz</td>\n",
       "      <td>2 - 4 kg</td>\n",
       "      <td>15,6 inç</td>\n",
       "      <td>NaN</td>\n",
       "      <td>NaN</td>\n",
       "      <td>NaN</td>\n",
       "      <td>WVA</td>\n",
       "      <td>5.Nesil</td>\n",
       "      <td>5500U</td>\n",
       "      <td>Windows 11 Home</td>\n",
       "      <td>NaN</td>\n",
       "      <td>0</td>\n",
       "      <td>4,0 GHz</td>\n",
       "      <td>1920 x 1080</td>\n",
       "      <td>NaN</td>\n",
       "      <td>8 GB</td>\n",
       "      <td>256 GB</td>\n",
       "      <td>Notebook</td>\n",
       "      <td>Düşük</td>\n",
       "    </tr>\n",
       "    <tr>\n",
       "      <th>768</th>\n",
       "      <td>3200 MHz</td>\n",
       "      <td>1 - 2 kg</td>\n",
       "      <td>15,6 inç</td>\n",
       "      <td>Onboard</td>\n",
       "      <td>Paylaşımlı</td>\n",
       "      <td>Dahili Ekran Kartı</td>\n",
       "      <td>TN</td>\n",
       "      <td>5.Nesil</td>\n",
       "      <td>5825U</td>\n",
       "      <td>Windows 11 Pro</td>\n",
       "      <td>Var</td>\n",
       "      <td>0</td>\n",
       "      <td>4,5 GHz</td>\n",
       "      <td>1920 x 1080</td>\n",
       "      <td>Yok</td>\n",
       "      <td>24 GB</td>\n",
       "      <td>1 TB</td>\n",
       "      <td>Notebook</td>\n",
       "      <td>Düşük</td>\n",
       "    </tr>\n",
       "    <tr>\n",
       "      <th>481</th>\n",
       "      <td>4800 MHz</td>\n",
       "      <td>1 - 2 kg</td>\n",
       "      <td>15,6 inç</td>\n",
       "      <td>GDDR6</td>\n",
       "      <td>6 GB</td>\n",
       "      <td>Yüksek Seviye Harici Ekran Kartı</td>\n",
       "      <td>TN</td>\n",
       "      <td>12.Nesil</td>\n",
       "      <td>12450H</td>\n",
       "      <td>Yok (Free Dos)</td>\n",
       "      <td>Yok</td>\n",
       "      <td>1</td>\n",
       "      <td>4,4 GHz</td>\n",
       "      <td>1920 x 1080</td>\n",
       "      <td>Yok</td>\n",
       "      <td>16 GB</td>\n",
       "      <td>1 TB</td>\n",
       "      <td>Oyun Bilgisayarları</td>\n",
       "      <td>Yüksek</td>\n",
       "    </tr>\n",
       "  </tbody>\n",
       "</table>\n",
       "</div>"
      ],
      "text/plain": [
       "    Bellek Hızı Cihaz Ağırlığı Ekran Boyutu Ekran Kartı Bellek Tipi  \\\n",
       "955         NaN       1 - 2 kg       13 inç                     NaN   \n",
       "759    3200 MHz   2 kg ve Altı       14 inç                 Onboard   \n",
       "694    4800 MHz       2 - 4 kg       17 inç                   GDDR6   \n",
       "471    4800 MHz       2 - 4 kg     16,1 inç                   GDDR6   \n",
       "748    3200 MHz       2 - 4 kg     15,6 inç                     NaN   \n",
       "768    3200 MHz       1 - 2 kg     15,6 inç                 Onboard   \n",
       "481    4800 MHz       1 - 2 kg     15,6 inç                   GDDR6   \n",
       "\n",
       "    Ekran Kartı Hafızası                  Ekran Kartı Tipi Ekran Panel Tipi  \\\n",
       "955                  NaN                               NaN              IPS   \n",
       "759           Paylaşımlı                Dahili Ekran Kartı              IPS   \n",
       "694                 8 GB                Harici Ekran Kartı               TN   \n",
       "471                 4 GB                Harici Ekran Kartı              IPS   \n",
       "748                  NaN                               NaN              WVA   \n",
       "768           Paylaşımlı                Dahili Ekran Kartı               TN   \n",
       "481                 6 GB  Yüksek Seviye Harici Ekran Kartı               TN   \n",
       "\n",
       "    İşlemci Nesli   İşlemci  İşletim Sistemi Kart Okuyucu  Aydınlatma  \\\n",
       "955           NaN  Apple M2            macOS          NaN           0   \n",
       "759       5.Nesil     5625U   Yok (Free Dos)          Yok           1   \n",
       "694      13.Nesil   13700HX   Windows 11 Pro          Var           1   \n",
       "471      12.Nesil    12500H   Yok (Free Dos)          Var           1   \n",
       "748       5.Nesil     5500U  Windows 11 Home          NaN           0   \n",
       "768       5.Nesil     5825U   Windows 11 Pro          Var           0   \n",
       "481      12.Nesil    12450H   Yok (Free Dos)          Yok           1   \n",
       "\n",
       "    Maksimum İşlemci Hızı Max Ekran Çözünürlüğü Parmak İzi Okuyucu  \\\n",
       "955                   NaN           2560 x 1600                NaN   \n",
       "759               4,3 GHz           1920 x 1080                Yok   \n",
       "694               5,5 Ghz           2560 x 1600                Var   \n",
       "471               4,2 GHz           1920 x 1080                Yok   \n",
       "748               4,0 GHz           1920 x 1080                NaN   \n",
       "768               4,5 GHz           1920 x 1080                Yok   \n",
       "481               4,4 GHz           1920 x 1080                Yok   \n",
       "\n",
       "    Ram (Sistem Belleği) SSD Kapasitesi          Ürün Modeli       Fiyat  \n",
       "955                 8 GB         256 GB             Notebook      Yüksek  \n",
       "759                16 GB           1 TB             Notebook       Düşük  \n",
       "694                64 GB           2 TB             Notebook  Çok Yüksek  \n",
       "471                16 GB         512 GB  Oyun Bilgisayarları        Orta  \n",
       "748                 8 GB         256 GB             Notebook       Düşük  \n",
       "768                24 GB           1 TB             Notebook       Düşük  \n",
       "481                16 GB           1 TB  Oyun Bilgisayarları      Yüksek  "
      ]
     },
     "execution_count": 3,
     "metadata": {},
     "output_type": "execute_result"
    }
   ],
   "source": [
    "df1.sample(7)"
   ]
  },
  {
   "cell_type": "code",
   "execution_count": 4,
   "id": "6a54da26",
   "metadata": {},
   "outputs": [
    {
     "data": {
      "text/plain": [
       "(994, 19)"
      ]
     },
     "execution_count": 4,
     "metadata": {},
     "output_type": "execute_result"
    }
   ],
   "source": [
    "df1.shape"
   ]
  },
  {
   "cell_type": "code",
   "execution_count": 5,
   "id": "509f33b1",
   "metadata": {},
   "outputs": [
    {
     "name": "stdout",
     "output_type": "stream",
     "text": [
      "<class 'pandas.core.frame.DataFrame'>\n",
      "RangeIndex: 994 entries, 0 to 993\n",
      "Data columns (total 19 columns):\n",
      " #   Column                   Non-Null Count  Dtype \n",
      "---  ------                   --------------  ----- \n",
      " 0   Bellek Hızı              888 non-null    object\n",
      " 1   Cihaz Ağırlığı           985 non-null    object\n",
      " 2   Ekran Boyutu             994 non-null    object\n",
      " 3   Ekran Kartı Bellek Tipi  884 non-null    object\n",
      " 4   Ekran Kartı Hafızası     946 non-null    object\n",
      " 5   Ekran Kartı Tipi         955 non-null    object\n",
      " 6   Ekran Panel Tipi         994 non-null    object\n",
      " 7   İşlemci Nesli            946 non-null    object\n",
      " 8   İşlemci                  979 non-null    object\n",
      " 9   İşletim Sistemi          994 non-null    object\n",
      " 10  Kart Okuyucu             864 non-null    object\n",
      " 11  Aydınlatma               994 non-null    int64 \n",
      " 12  Maksimum İşlemci Hızı    950 non-null    object\n",
      " 13  Max Ekran Çözünürlüğü    988 non-null    object\n",
      " 14  Parmak İzi Okuyucu       886 non-null    object\n",
      " 15  Ram (Sistem Belleği)     987 non-null    object\n",
      " 16  SSD Kapasitesi           991 non-null    object\n",
      " 17  Ürün Modeli              994 non-null    object\n",
      " 18  Fiyat                    994 non-null    object\n",
      "dtypes: int64(1), object(18)\n",
      "memory usage: 147.7+ KB\n"
     ]
    }
   ],
   "source": [
    "df1.info()"
   ]
  },
  {
   "cell_type": "code",
   "execution_count": 6,
   "id": "d179321e-7dc3-46fb-8324-8ffb9773a581",
   "metadata": {},
   "outputs": [
    {
     "data": {
      "text/plain": [
       "(994, 19)"
      ]
     },
     "execution_count": 6,
     "metadata": {},
     "output_type": "execute_result"
    }
   ],
   "source": [
    "df1.shape"
   ]
  },
  {
   "cell_type": "code",
   "execution_count": 7,
   "id": "02d3bb38-d71c-4f97-ae5b-8da079fcfc54",
   "metadata": {},
   "outputs": [
    {
     "data": {
      "text/plain": [
       "Bellek Hızı                106\n",
       "Cihaz Ağırlığı               9\n",
       "Ekran Boyutu                 0\n",
       "Ekran Kartı Bellek Tipi    110\n",
       "Ekran Kartı Hafızası        48\n",
       "Ekran Kartı Tipi            39\n",
       "Ekran Panel Tipi             0\n",
       "İşlemci Nesli               48\n",
       "İşlemci                     15\n",
       "İşletim Sistemi              0\n",
       "Kart Okuyucu               130\n",
       "Aydınlatma                   0\n",
       "Maksimum İşlemci Hızı       44\n",
       "Max Ekran Çözünürlüğü        6\n",
       "Parmak İzi Okuyucu         108\n",
       "Ram (Sistem Belleği)         7\n",
       "SSD Kapasitesi               3\n",
       "Ürün Modeli                  0\n",
       "Fiyat                        0\n",
       "dtype: int64"
      ]
     },
     "execution_count": 7,
     "metadata": {},
     "output_type": "execute_result"
    }
   ],
   "source": [
    "df1.isnull().sum()"
   ]
  },
  {
   "cell_type": "code",
   "execution_count": 8,
   "id": "842b3114-79eb-4b6b-b91e-1f428629632d",
   "metadata": {},
   "outputs": [],
   "source": [
    "df2=pd.read_excel('test.xlsx')"
   ]
  },
  {
   "cell_type": "code",
   "execution_count": 9,
   "id": "6f271bdc-a2ac-4223-b49f-80a8c161be75",
   "metadata": {},
   "outputs": [
    {
     "data": {
      "text/html": [
       "<div>\n",
       "<style scoped>\n",
       "    .dataframe tbody tr th:only-of-type {\n",
       "        vertical-align: middle;\n",
       "    }\n",
       "\n",
       "    .dataframe tbody tr th {\n",
       "        vertical-align: top;\n",
       "    }\n",
       "\n",
       "    .dataframe thead th {\n",
       "        text-align: right;\n",
       "    }\n",
       "</style>\n",
       "<table border=\"1\" class=\"dataframe\">\n",
       "  <thead>\n",
       "    <tr style=\"text-align: right;\">\n",
       "      <th></th>\n",
       "      <th>Bellek Hızı</th>\n",
       "      <th>Cihaz Ağırlığı</th>\n",
       "      <th>Ekran Boyutu</th>\n",
       "      <th>Ekran Kartı Bellek Tipi</th>\n",
       "      <th>Ekran Kartı Hafızası</th>\n",
       "      <th>Ekran Kartı Tipi</th>\n",
       "      <th>Ekran Panel Tipi</th>\n",
       "      <th>İşlemci Nesli</th>\n",
       "      <th>İşlemci</th>\n",
       "      <th>İşletim Sistemi</th>\n",
       "      <th>Kart Okuyucu</th>\n",
       "      <th>Aydınlatma</th>\n",
       "      <th>Maksimum İşlemci Hızı</th>\n",
       "      <th>Max Ekran Çözünürlüğü</th>\n",
       "      <th>Parmak İzi Okuyucu</th>\n",
       "      <th>Ram (Sistem Belleği)</th>\n",
       "      <th>SSD Kapasitesi</th>\n",
       "      <th>Ürün Modeli</th>\n",
       "      <th>Fiyat</th>\n",
       "    </tr>\n",
       "  </thead>\n",
       "  <tbody>\n",
       "    <tr>\n",
       "      <th>0</th>\n",
       "      <td>3200 MHz</td>\n",
       "      <td>1 - 2 kg</td>\n",
       "      <td>15,6 inç</td>\n",
       "      <td>GDDR6</td>\n",
       "      <td>6 GB</td>\n",
       "      <td>Yüksek Seviye Harici Ekran Kartı</td>\n",
       "      <td>TN</td>\n",
       "      <td>12.Nesil</td>\n",
       "      <td>12450H</td>\n",
       "      <td>Yok (Free Dos)</td>\n",
       "      <td>Yok</td>\n",
       "      <td>1</td>\n",
       "      <td>4,4 GHz</td>\n",
       "      <td>1920 x 1080</td>\n",
       "      <td>Yok</td>\n",
       "      <td>8 GB</td>\n",
       "      <td>512 GB</td>\n",
       "      <td>Oyun Bilgisayarları</td>\n",
       "      <td>Orta</td>\n",
       "    </tr>\n",
       "    <tr>\n",
       "      <th>1</th>\n",
       "      <td>3200 MHz</td>\n",
       "      <td>1 - 2 kg</td>\n",
       "      <td>14,1 inç</td>\n",
       "      <td>Onboard</td>\n",
       "      <td>Paylaşımlı</td>\n",
       "      <td>Dahili Ekran Kartı</td>\n",
       "      <td>IPS</td>\n",
       "      <td>12.Nesil</td>\n",
       "      <td>1255U</td>\n",
       "      <td>Yok (Free Dos)</td>\n",
       "      <td>Var</td>\n",
       "      <td>0</td>\n",
       "      <td>4,7 GHz</td>\n",
       "      <td>1920 x 1080</td>\n",
       "      <td>Var</td>\n",
       "      <td>16 GB</td>\n",
       "      <td>512 GB</td>\n",
       "      <td>Notebook</td>\n",
       "      <td>Düşük</td>\n",
       "    </tr>\n",
       "    <tr>\n",
       "      <th>2</th>\n",
       "      <td>3200 MHz</td>\n",
       "      <td>1 - 2 kg</td>\n",
       "      <td>15,6 inç</td>\n",
       "      <td>Onboard</td>\n",
       "      <td>Paylaşımlı</td>\n",
       "      <td>Dahili Ekran Kartı</td>\n",
       "      <td>TN</td>\n",
       "      <td>Ryzen</td>\n",
       "      <td>5700U</td>\n",
       "      <td>Yok (Free Dos)</td>\n",
       "      <td>Var</td>\n",
       "      <td>0</td>\n",
       "      <td>4,3 GHz</td>\n",
       "      <td>1920 x 1080</td>\n",
       "      <td>Yok</td>\n",
       "      <td>8 GB</td>\n",
       "      <td>512 GB</td>\n",
       "      <td>Notebook</td>\n",
       "      <td>Çok Düşük</td>\n",
       "    </tr>\n",
       "    <tr>\n",
       "      <th>3</th>\n",
       "      <td>3200 MHz</td>\n",
       "      <td>1 - 2 kg</td>\n",
       "      <td>15,6 inç</td>\n",
       "      <td>Onboard</td>\n",
       "      <td>Paylaşımlı</td>\n",
       "      <td>Dahili Ekran Kartı</td>\n",
       "      <td>IPS</td>\n",
       "      <td>12.Nesil</td>\n",
       "      <td>1255U</td>\n",
       "      <td>Windows 10 Pro</td>\n",
       "      <td>Var</td>\n",
       "      <td>0</td>\n",
       "      <td>4,7 GHz</td>\n",
       "      <td>1920 x 1080</td>\n",
       "      <td>Yok</td>\n",
       "      <td>8 GB</td>\n",
       "      <td>2 TB</td>\n",
       "      <td>Notebook</td>\n",
       "      <td>Orta</td>\n",
       "    </tr>\n",
       "    <tr>\n",
       "      <th>4</th>\n",
       "      <td>2400 MHz</td>\n",
       "      <td>1 - 2 kg</td>\n",
       "      <td>15,6 inç</td>\n",
       "      <td>Onboard</td>\n",
       "      <td>Paylaşımlı</td>\n",
       "      <td>Dahili Ekran Kartı</td>\n",
       "      <td>TN</td>\n",
       "      <td>İntel N Serisi</td>\n",
       "      <td>N4120</td>\n",
       "      <td>Yok (Free Dos)</td>\n",
       "      <td>Var</td>\n",
       "      <td>0</td>\n",
       "      <td>2,6 GHz</td>\n",
       "      <td>1366 x 768</td>\n",
       "      <td>Yok</td>\n",
       "      <td>4 GB</td>\n",
       "      <td>0 GB</td>\n",
       "      <td>Notebook</td>\n",
       "      <td>Çok Düşük</td>\n",
       "    </tr>\n",
       "  </tbody>\n",
       "</table>\n",
       "</div>"
      ],
      "text/plain": [
       "  Bellek Hızı Cihaz Ağırlığı Ekran Boyutu Ekran Kartı Bellek Tipi  \\\n",
       "0    3200 MHz       1 - 2 kg     15,6 inç                   GDDR6   \n",
       "1    3200 MHz       1 - 2 kg     14,1 inç                 Onboard   \n",
       "2    3200 MHz       1 - 2 kg     15,6 inç                 Onboard   \n",
       "3    3200 MHz       1 - 2 kg     15,6 inç                 Onboard   \n",
       "4    2400 MHz       1 - 2 kg     15,6 inç                 Onboard   \n",
       "\n",
       "  Ekran Kartı Hafızası                  Ekran Kartı Tipi Ekran Panel Tipi  \\\n",
       "0                 6 GB  Yüksek Seviye Harici Ekran Kartı               TN   \n",
       "1           Paylaşımlı                Dahili Ekran Kartı              IPS   \n",
       "2           Paylaşımlı                Dahili Ekran Kartı               TN   \n",
       "3           Paylaşımlı                Dahili Ekran Kartı              IPS   \n",
       "4           Paylaşımlı                Dahili Ekran Kartı               TN   \n",
       "\n",
       "    İşlemci Nesli İşlemci İşletim Sistemi Kart Okuyucu  Aydınlatma  \\\n",
       "0        12.Nesil  12450H  Yok (Free Dos)          Yok           1   \n",
       "1        12.Nesil   1255U  Yok (Free Dos)          Var           0   \n",
       "2           Ryzen   5700U  Yok (Free Dos)          Var           0   \n",
       "3        12.Nesil   1255U  Windows 10 Pro          Var           0   \n",
       "4  İntel N Serisi   N4120  Yok (Free Dos)          Var           0   \n",
       "\n",
       "  Maksimum İşlemci Hızı Max Ekran Çözünürlüğü Parmak İzi Okuyucu  \\\n",
       "0               4,4 GHz           1920 x 1080                Yok   \n",
       "1               4,7 GHz           1920 x 1080                Var   \n",
       "2               4,3 GHz           1920 x 1080                Yok   \n",
       "3               4,7 GHz           1920 x 1080                Yok   \n",
       "4               2,6 GHz            1366 x 768                Yok   \n",
       "\n",
       "  Ram (Sistem Belleği) SSD Kapasitesi          Ürün Modeli      Fiyat  \n",
       "0                 8 GB         512 GB  Oyun Bilgisayarları       Orta  \n",
       "1                16 GB         512 GB             Notebook      Düşük  \n",
       "2                 8 GB         512 GB             Notebook  Çok Düşük  \n",
       "3                 8 GB           2 TB             Notebook       Orta  \n",
       "4                 4 GB           0 GB             Notebook  Çok Düşük  "
      ]
     },
     "execution_count": 9,
     "metadata": {},
     "output_type": "execute_result"
    }
   ],
   "source": [
    "df2.head()"
   ]
  },
  {
   "cell_type": "code",
   "execution_count": 10,
   "id": "6e05ec21-07e8-4b30-8a53-ded30aa4be30",
   "metadata": {},
   "outputs": [],
   "source": [
    "df= pd.concat([df1, df2], ignore_index=True)"
   ]
  },
  {
   "cell_type": "code",
   "execution_count": 11,
   "id": "e9c7fbb3-c148-49e5-8b24-0d1ce25c278c",
   "metadata": {},
   "outputs": [
    {
     "data": {
      "text/html": [
       "<div>\n",
       "<style scoped>\n",
       "    .dataframe tbody tr th:only-of-type {\n",
       "        vertical-align: middle;\n",
       "    }\n",
       "\n",
       "    .dataframe tbody tr th {\n",
       "        vertical-align: top;\n",
       "    }\n",
       "\n",
       "    .dataframe thead th {\n",
       "        text-align: right;\n",
       "    }\n",
       "</style>\n",
       "<table border=\"1\" class=\"dataframe\">\n",
       "  <thead>\n",
       "    <tr style=\"text-align: right;\">\n",
       "      <th></th>\n",
       "      <th>Bellek Hızı</th>\n",
       "      <th>Cihaz Ağırlığı</th>\n",
       "      <th>Ekran Boyutu</th>\n",
       "      <th>Ekran Kartı Bellek Tipi</th>\n",
       "      <th>Ekran Kartı Hafızası</th>\n",
       "      <th>Ekran Kartı Tipi</th>\n",
       "      <th>Ekran Panel Tipi</th>\n",
       "      <th>İşlemci Nesli</th>\n",
       "      <th>İşlemci</th>\n",
       "      <th>İşletim Sistemi</th>\n",
       "      <th>Kart Okuyucu</th>\n",
       "      <th>Aydınlatma</th>\n",
       "      <th>Maksimum İşlemci Hızı</th>\n",
       "      <th>Max Ekran Çözünürlüğü</th>\n",
       "      <th>Parmak İzi Okuyucu</th>\n",
       "      <th>Ram (Sistem Belleği)</th>\n",
       "      <th>SSD Kapasitesi</th>\n",
       "      <th>Ürün Modeli</th>\n",
       "      <th>Fiyat</th>\n",
       "    </tr>\n",
       "  </thead>\n",
       "  <tbody>\n",
       "    <tr>\n",
       "      <th>0</th>\n",
       "      <td>1066 MHz</td>\n",
       "      <td>NaN</td>\n",
       "      <td>10 inç</td>\n",
       "      <td>NaN</td>\n",
       "      <td>1 GB</td>\n",
       "      <td>NaN</td>\n",
       "      <td>IPS</td>\n",
       "      <td>1.Nesil</td>\n",
       "      <td>1000M</td>\n",
       "      <td>Android</td>\n",
       "      <td>NaN</td>\n",
       "      <td>0</td>\n",
       "      <td>1,05 GHz</td>\n",
       "      <td>NaN</td>\n",
       "      <td>NaN</td>\n",
       "      <td>NaN</td>\n",
       "      <td>1 TB</td>\n",
       "      <td>Notebook</td>\n",
       "      <td>Çok Yüksek</td>\n",
       "    </tr>\n",
       "    <tr>\n",
       "      <th>1</th>\n",
       "      <td>1066 MHz</td>\n",
       "      <td>NaN</td>\n",
       "      <td>10 inç</td>\n",
       "      <td>NaN</td>\n",
       "      <td>1 GB</td>\n",
       "      <td>NaN</td>\n",
       "      <td>IPS</td>\n",
       "      <td>1.Nesil</td>\n",
       "      <td>1000M</td>\n",
       "      <td>Android</td>\n",
       "      <td>NaN</td>\n",
       "      <td>0</td>\n",
       "      <td>1,05 GHz</td>\n",
       "      <td>NaN</td>\n",
       "      <td>NaN</td>\n",
       "      <td>NaN</td>\n",
       "      <td>1 TB</td>\n",
       "      <td>Notebook</td>\n",
       "      <td>Çok Yüksek</td>\n",
       "    </tr>\n",
       "    <tr>\n",
       "      <th>2</th>\n",
       "      <td>1066 MHz</td>\n",
       "      <td>NaN</td>\n",
       "      <td>10 inç</td>\n",
       "      <td>NaN</td>\n",
       "      <td>1 GB</td>\n",
       "      <td>NaN</td>\n",
       "      <td>IPS</td>\n",
       "      <td>1.Nesil</td>\n",
       "      <td>1000M</td>\n",
       "      <td>Android</td>\n",
       "      <td>NaN</td>\n",
       "      <td>0</td>\n",
       "      <td>1,05 GHz</td>\n",
       "      <td>NaN</td>\n",
       "      <td>NaN</td>\n",
       "      <td>NaN</td>\n",
       "      <td>1 TB</td>\n",
       "      <td>Notebook</td>\n",
       "      <td>Orta</td>\n",
       "    </tr>\n",
       "    <tr>\n",
       "      <th>3</th>\n",
       "      <td>3200 MHz</td>\n",
       "      <td>1 - 2 kg</td>\n",
       "      <td>15,6 inç</td>\n",
       "      <td>GDDR4</td>\n",
       "      <td>2 GB</td>\n",
       "      <td>Harici Ekran Kartı</td>\n",
       "      <td>LED</td>\n",
       "      <td>10. Nesil</td>\n",
       "      <td>1035G1</td>\n",
       "      <td>Windows 10 Home</td>\n",
       "      <td>Var</td>\n",
       "      <td>0</td>\n",
       "      <td>3,6 GHz</td>\n",
       "      <td>1920 x 1080</td>\n",
       "      <td>Yok</td>\n",
       "      <td>8 GB</td>\n",
       "      <td>512 GB</td>\n",
       "      <td>Notebook</td>\n",
       "      <td>Düşük</td>\n",
       "    </tr>\n",
       "    <tr>\n",
       "      <th>4</th>\n",
       "      <td>3200 MHz</td>\n",
       "      <td>1 - 2 kg</td>\n",
       "      <td>15,6 inç</td>\n",
       "      <td>GDDR5</td>\n",
       "      <td>2 GB</td>\n",
       "      <td>Harici Ekran Kartı</td>\n",
       "      <td>LED</td>\n",
       "      <td>10. Nesil</td>\n",
       "      <td>1035G1</td>\n",
       "      <td>Windows 10 Home</td>\n",
       "      <td>Yok</td>\n",
       "      <td>0</td>\n",
       "      <td>3,6 GHz</td>\n",
       "      <td>1920 x 1080</td>\n",
       "      <td>Yok</td>\n",
       "      <td>12 GB</td>\n",
       "      <td>1 TB</td>\n",
       "      <td>Notebook</td>\n",
       "      <td>Düşük</td>\n",
       "    </tr>\n",
       "  </tbody>\n",
       "</table>\n",
       "</div>"
      ],
      "text/plain": [
       "  Bellek Hızı Cihaz Ağırlığı Ekran Boyutu Ekran Kartı Bellek Tipi  \\\n",
       "0    1066 MHz            NaN       10 inç                     NaN   \n",
       "1    1066 MHz            NaN       10 inç                     NaN   \n",
       "2    1066 MHz            NaN       10 inç                     NaN   \n",
       "3    3200 MHz       1 - 2 kg     15,6 inç                   GDDR4   \n",
       "4    3200 MHz       1 - 2 kg     15,6 inç                   GDDR5   \n",
       "\n",
       "  Ekran Kartı Hafızası    Ekran Kartı Tipi Ekran Panel Tipi İşlemci Nesli  \\\n",
       "0                 1 GB                 NaN              IPS       1.Nesil   \n",
       "1                 1 GB                 NaN              IPS       1.Nesil   \n",
       "2                 1 GB                 NaN              IPS       1.Nesil   \n",
       "3                 2 GB  Harici Ekran Kartı              LED     10. Nesil   \n",
       "4                 2 GB  Harici Ekran Kartı              LED     10. Nesil   \n",
       "\n",
       "  İşlemci  İşletim Sistemi Kart Okuyucu  Aydınlatma Maksimum İşlemci Hızı  \\\n",
       "0   1000M          Android          NaN           0              1,05 GHz   \n",
       "1   1000M          Android          NaN           0              1,05 GHz   \n",
       "2   1000M          Android          NaN           0              1,05 GHz   \n",
       "3  1035G1  Windows 10 Home          Var           0               3,6 GHz   \n",
       "4  1035G1  Windows 10 Home          Yok           0               3,6 GHz   \n",
       "\n",
       "  Max Ekran Çözünürlüğü Parmak İzi Okuyucu Ram (Sistem Belleği)  \\\n",
       "0                   NaN                NaN                  NaN   \n",
       "1                   NaN                NaN                  NaN   \n",
       "2                   NaN                NaN                  NaN   \n",
       "3           1920 x 1080                Yok                 8 GB   \n",
       "4           1920 x 1080                Yok                12 GB   \n",
       "\n",
       "  SSD Kapasitesi Ürün Modeli       Fiyat  \n",
       "0           1 TB    Notebook  Çok Yüksek  \n",
       "1           1 TB    Notebook  Çok Yüksek  \n",
       "2           1 TB    Notebook        Orta  \n",
       "3         512 GB    Notebook       Düşük  \n",
       "4           1 TB    Notebook       Düşük  "
      ]
     },
     "execution_count": 11,
     "metadata": {},
     "output_type": "execute_result"
    }
   ],
   "source": [
    "df.head()"
   ]
  },
  {
   "cell_type": "code",
   "execution_count": 12,
   "id": "f6331d08-0cf8-49c4-9323-250b0a18eed6",
   "metadata": {},
   "outputs": [
    {
     "name": "stdout",
     "output_type": "stream",
     "text": [
      "<class 'pandas.core.frame.DataFrame'>\n",
      "RangeIndex: 1243 entries, 0 to 1242\n",
      "Data columns (total 19 columns):\n",
      " #   Column                   Non-Null Count  Dtype \n",
      "---  ------                   --------------  ----- \n",
      " 0   Bellek Hızı              1137 non-null   object\n",
      " 1   Cihaz Ağırlığı           1234 non-null   object\n",
      " 2   Ekran Boyutu             1243 non-null   object\n",
      " 3   Ekran Kartı Bellek Tipi  1133 non-null   object\n",
      " 4   Ekran Kartı Hafızası     1195 non-null   object\n",
      " 5   Ekran Kartı Tipi         1204 non-null   object\n",
      " 6   Ekran Panel Tipi         1243 non-null   object\n",
      " 7   İşlemci Nesli            1195 non-null   object\n",
      " 8   İşlemci                  1228 non-null   object\n",
      " 9   İşletim Sistemi          1243 non-null   object\n",
      " 10  Kart Okuyucu             1113 non-null   object\n",
      " 11  Aydınlatma               1243 non-null   int64 \n",
      " 12  Maksimum İşlemci Hızı    1199 non-null   object\n",
      " 13  Max Ekran Çözünürlüğü    1237 non-null   object\n",
      " 14  Parmak İzi Okuyucu       1135 non-null   object\n",
      " 15  Ram (Sistem Belleği)     1236 non-null   object\n",
      " 16  SSD Kapasitesi           1240 non-null   object\n",
      " 17  Ürün Modeli              1243 non-null   object\n",
      " 18  Fiyat                    1243 non-null   object\n",
      "dtypes: int64(1), object(18)\n",
      "memory usage: 184.6+ KB\n"
     ]
    }
   ],
   "source": [
    "df.info()"
   ]
  },
  {
   "cell_type": "code",
   "execution_count": 13,
   "id": "56ae969b-ad93-4cb0-aa78-e17587da311b",
   "metadata": {},
   "outputs": [
    {
     "data": {
      "text/plain": [
       "Bellek Hızı                106\n",
       "Cihaz Ağırlığı               9\n",
       "Ekran Boyutu                 0\n",
       "Ekran Kartı Bellek Tipi    110\n",
       "Ekran Kartı Hafızası        48\n",
       "Ekran Kartı Tipi            39\n",
       "Ekran Panel Tipi             0\n",
       "İşlemci Nesli               48\n",
       "İşlemci                     15\n",
       "İşletim Sistemi              0\n",
       "Kart Okuyucu               130\n",
       "Aydınlatma                   0\n",
       "Maksimum İşlemci Hızı       44\n",
       "Max Ekran Çözünürlüğü        6\n",
       "Parmak İzi Okuyucu         108\n",
       "Ram (Sistem Belleği)         7\n",
       "SSD Kapasitesi               3\n",
       "Ürün Modeli                  0\n",
       "Fiyat                        0\n",
       "dtype: int64"
      ]
     },
     "execution_count": 13,
     "metadata": {},
     "output_type": "execute_result"
    }
   ],
   "source": [
    "df.isnull().sum()"
   ]
  },
  {
   "cell_type": "code",
   "execution_count": 14,
   "id": "eaee4d4d-3a6f-4148-a200-7f0b6e9eb801",
   "metadata": {
    "scrolled": true
   },
   "outputs": [
    {
     "data": {
      "text/plain": [
       "Bellek Hızı\n",
       "3200 MHz    836\n",
       "4800 MHz    139\n",
       "2666 MHz     84\n",
       "2933 MHz     20\n",
       "2400 MHz     20\n",
       "5200 MHz      9\n",
       "4266 MHz      7\n",
       "4267 MHz      6\n",
       "1066 MHz      3\n",
       "3000 MHz      3\n",
       "3733 MHz      2\n",
       "6400 MHz      2\n",
       "5500 MHz      2\n",
       "2133 MHz      2\n",
       "1600 MHz      1\n",
       "1866 MHz      1\n",
       "Name: count, dtype: int64"
      ]
     },
     "execution_count": 14,
     "metadata": {},
     "output_type": "execute_result"
    }
   ],
   "source": [
    "df['Bellek Hızı'].value_counts()"
   ]
  },
  {
   "cell_type": "code",
   "execution_count": 15,
   "id": "a26ddf36-1126-471e-966a-8d762582c84c",
   "metadata": {},
   "outputs": [],
   "source": [
    "# \"Bellek Hızı\" sütunundaki \"MHz\" ifadesini kaldırma\n",
    "df[\"Bellek Hızı\"] = df[\"Bellek Hızı\"].str.replace(\"MHz\", \"\")"
   ]
  },
  {
   "cell_type": "code",
   "execution_count": 16,
   "id": "1c596b18-86d0-4e95-a65f-6109ac77baca",
   "metadata": {},
   "outputs": [],
   "source": [
    "# \"Bellek Hızı\" sütunundaki değerleri float'a dönüştürme\n",
    "df[\"Bellek Hızı\"] = df[\"Bellek Hızı\"].astype(float)"
   ]
  },
  {
   "cell_type": "code",
   "execution_count": 17,
   "id": "8f483f9c-a4d1-481c-85ae-d1a36d161bc8",
   "metadata": {},
   "outputs": [],
   "source": [
    "df['Bellek Hızı'].fillna(df['Bellek Hızı'].mean(), inplace=True)"
   ]
  },
  {
   "cell_type": "code",
   "execution_count": 18,
   "id": "bf4a8aa7-d1ec-460b-9a36-d31602e9cce4",
   "metadata": {
    "scrolled": true
   },
   "outputs": [
    {
     "data": {
      "text/plain": [
       "Ekran Boyutu\n",
       "15,6 inç    855\n",
       "14 inç      162\n",
       "16 inç       47\n",
       "17,3 inç     46\n",
       "16,1 inç     44\n",
       "14,1 inç     35\n",
       "13 inç       20\n",
       "13,3 inç     15\n",
       "10 inç        3\n",
       "18,4 inç      3\n",
       "13,4 inç      2\n",
       "13,5 inç      2\n",
       "15 inç        2\n",
       "11,6 inç      2\n",
       "17 inç        2\n",
       "18 inç        2\n",
       "12,3 inç      1\n",
       "Name: count, dtype: int64"
      ]
     },
     "execution_count": 18,
     "metadata": {},
     "output_type": "execute_result"
    }
   ],
   "source": [
    "df['Ekran Boyutu'].value_counts()"
   ]
  },
  {
   "cell_type": "markdown",
   "id": "38836326-42c2-4880-bd65-d2d2bfcb3429",
   "metadata": {
    "scrolled": true
   },
   "source": [
    "import plotly.graph_objects as go\n",
    "\n",
    "fig = px.sunburst(df, path=['Ürün Modeli','Fiyat','Ekran Kartı Tipi'], values='İşletim Sistemi')\n",
    "\n",
    "# Grafiğin boyutunu ayarla\n",
    "fig.update_layout(\n",
    "    autosize=False,\n",
    "    width=900,\n",
    "    height=800\n",
    ")\n",
    "\n",
    "fig.show()"
   ]
  },
  {
   "cell_type": "code",
   "execution_count": 19,
   "id": "3a01ee1e-bf06-41c4-ade0-9ee9315001d2",
   "metadata": {},
   "outputs": [],
   "source": [
    "# Convert the 'Ekran Boyutu' column to strings\n",
    "df['Ekran Boyutu'] = df['Ekran Boyutu'].astype(str)\n",
    "\n",
    "# Apply the string operations\n",
    "df['Ekran Boyutu'] = df['Ekran Boyutu'].str.replace(' inç', '').str.replace(',', '.').astype(float)"
   ]
  },
  {
   "cell_type": "code",
   "execution_count": 20,
   "id": "d50ad34e-5665-4ce9-ba77-59e508547ea2",
   "metadata": {},
   "outputs": [
    {
     "data": {
      "text/plain": [
       "Ekran Kartı Bellek Tipi\n",
       "Onboard    648\n",
       "GDDR6      399\n",
       "GDDR5       59\n",
       "GDDR4       14\n",
       "DDR5         8\n",
       "GDDR6X       3\n",
       "DDR3         2\n",
       "Name: count, dtype: int64"
      ]
     },
     "execution_count": 20,
     "metadata": {},
     "output_type": "execute_result"
    }
   ],
   "source": [
    "df['Ekran Kartı Bellek Tipi'].value_counts()"
   ]
  },
  {
   "cell_type": "code",
   "execution_count": 21,
   "id": "9959e25e-1a20-4d6e-974f-c100884874c4",
   "metadata": {},
   "outputs": [],
   "source": [
    "d = {'Onboard': 0, 'GDDR6': 1, 'GDDR5': 2, 'GDDR4': 3, 'DDR5': 4, 'GDDR6X': 5, 'DDR3': 6}\n",
    "df['Ekran Kartı Bellek Tipi'] = df['Ekran Kartı Bellek Tipi'].map(d)"
   ]
  },
  {
   "cell_type": "code",
   "execution_count": 22,
   "id": "2ac3857e-4f61-4428-b87d-e3ba635f32d1",
   "metadata": {},
   "outputs": [],
   "source": [
    "df['Ekran Kartı Bellek Tipi']=df['Ekran Kartı Bellek Tipi'].fillna(df['Ekran Kartı Bellek Tipi'].mean())"
   ]
  },
  {
   "cell_type": "code",
   "execution_count": 23,
   "id": "6fbff8b2-c54c-4aa2-9fd9-41d3cc77cc5a",
   "metadata": {},
   "outputs": [
    {
     "data": {
      "text/plain": [
       "Ekran Kartı Tipi\n",
       "Dahili Ekran Kartı                  724\n",
       "Yüksek Seviye Harici Ekran Kartı    242\n",
       "Harici Ekran Kartı                  238\n",
       "Name: count, dtype: int64"
      ]
     },
     "execution_count": 23,
     "metadata": {},
     "output_type": "execute_result"
    }
   ],
   "source": [
    "df['Ekran Kartı Tipi'].value_counts()"
   ]
  },
  {
   "cell_type": "code",
   "execution_count": 24,
   "id": "140798f6-d0b8-47b6-8776-8f26f54abe2c",
   "metadata": {},
   "outputs": [],
   "source": [
    "d={'Dahili Ekran Kartı':0,'Harici Ekran Kartı':1,'Yüksek Seviye Harici Ekran Kartı':2}"
   ]
  },
  {
   "cell_type": "code",
   "execution_count": 25,
   "id": "15f71de8-228e-47f0-8f24-4f7bb1a4b7f3",
   "metadata": {},
   "outputs": [],
   "source": [
    "df['Ekran Kartı Tipi']=df['Ekran Kartı Tipi'].map(d)"
   ]
  },
  {
   "cell_type": "code",
   "execution_count": 26,
   "id": "8dc1947f-49d5-44a3-93e7-07e7e8c7aa68",
   "metadata": {},
   "outputs": [],
   "source": [
    "df['Ekran Kartı Tipi']=df['Ekran Kartı Tipi'].fillna(df['Ekran Kartı Tipi'].mean())"
   ]
  },
  {
   "cell_type": "code",
   "execution_count": 27,
   "id": "078c25bf-f145-42c4-9510-0767eb55f17b",
   "metadata": {},
   "outputs": [],
   "source": [
    "df['İşlemci'] = df['İşlemci'].astype(str)\n",
    "df['İşlemci'] = df['İşlemci'].str.extract('(\\d+)', expand=False).astype(float)\n",
    "df['İşlemci'].fillna(df['İşlemci'].mean(), inplace=True)"
   ]
  },
  {
   "cell_type": "code",
   "execution_count": 28,
   "id": "59dc9fa0-1631-467b-b25e-6d8634bfe505",
   "metadata": {},
   "outputs": [],
   "source": [
    "d={'Yok':0,'Var':1,}\n",
    "df['Kart Okuyucu']=df['Kart Okuyucu'].map(d)\n",
    "df['Kart Okuyucu']=df['Kart Okuyucu'].fillna(df['Kart Okuyucu'].mean())"
   ]
  },
  {
   "cell_type": "code",
   "execution_count": 29,
   "id": "c8aab39f-c67a-4d2a-a6e7-ff582d77cfcd",
   "metadata": {},
   "outputs": [],
   "source": [
    "d={'0 GB':0,' 0':1,'64 GB':2,'120 GB':3,'128 GB':4,'250 GB':5,'256 GB':6,'500 GB':7,'512 GB':8,'1 TB':9,'2 TB':10,'4 TB':11,}\n",
    "df['SSD Kapasitesi']=df['SSD Kapasitesi'].map(d)\n",
    "df['SSD Kapasitesi']=df['SSD Kapasitesi'].fillna(df['SSD Kapasitesi'].mean())"
   ]
  },
  {
   "cell_type": "code",
   "execution_count": 30,
   "id": "c1722708-149a-4c2b-a74a-7ad56d639d76",
   "metadata": {},
   "outputs": [
    {
     "data": {
      "text/plain": [
       "Ekran Kartı Hafızası\n",
       "Paylaşımlı    721\n",
       "4 GB          208\n",
       "2 GB           97\n",
       "6 GB           93\n",
       "8 GB           56\n",
       "16 GB          11\n",
       "12 GB           6\n",
       "1 GB            3\n",
       "Name: count, dtype: int64"
      ]
     },
     "execution_count": 30,
     "metadata": {},
     "output_type": "execute_result"
    }
   ],
   "source": [
    "df['Ekran Kartı Hafızası'].value_counts()"
   ]
  },
  {
   "cell_type": "code",
   "execution_count": 31,
   "id": "3b064aaf-3046-4fef-80ce-c371b0123acd",
   "metadata": {},
   "outputs": [],
   "source": [
    "d = {'1 GB':0, '2':1, '4 GB':2, '6 GB':3, '8 GB':4, '12 GB':5, '16 GB':6}\n",
    "df['Ekran Kartı Hafızası'] = df['Ekran Kartı Hafızası'].map(d)"
   ]
  },
  {
   "cell_type": "code",
   "execution_count": 32,
   "id": "3fce4837-aff2-4fb1-b31d-74b457a07a2b",
   "metadata": {},
   "outputs": [],
   "source": [
    "df['Ekran Kartı Hafızası']=df['Ekran Kartı Hafızası'].fillna(df['Ekran Kartı Hafızası'].mean())"
   ]
  },
  {
   "cell_type": "code",
   "execution_count": 33,
   "id": "b240e6a1-8b15-4922-aaf4-351d5529d6df",
   "metadata": {},
   "outputs": [
    {
     "data": {
      "text/plain": [
       "Parmak İzi Okuyucu\n",
       "Yok    885\n",
       "Var    250\n",
       "Name: count, dtype: int64"
      ]
     },
     "execution_count": 33,
     "metadata": {},
     "output_type": "execute_result"
    }
   ],
   "source": [
    "df['Parmak İzi Okuyucu'].value_counts()"
   ]
  },
  {
   "cell_type": "code",
   "execution_count": 34,
   "id": "a6a3aadb-2581-41bd-8e12-69d9d5260287",
   "metadata": {},
   "outputs": [],
   "source": [
    "d = {'Yok':0, 'Var':1}\n",
    "df['Parmak İzi Okuyucu'] = df['Parmak İzi Okuyucu'].map(d)"
   ]
  },
  {
   "cell_type": "code",
   "execution_count": 35,
   "id": "9641f2d3-f23d-4bbc-b2f6-9d297deb6068",
   "metadata": {},
   "outputs": [],
   "source": [
    "df['Parmak İzi Okuyucu']=df['Parmak İzi Okuyucu'].fillna(df['Parmak İzi Okuyucu'].mean())"
   ]
  },
  {
   "cell_type": "code",
   "execution_count": 36,
   "id": "699fa9be-07f9-478e-8fca-f24fa5f64773",
   "metadata": {},
   "outputs": [
    {
     "data": {
      "text/plain": [
       "Ram (Sistem Belleği)\n",
       "16 GB     531\n",
       "8 GB      349\n",
       "32 GB     194\n",
       "4 GB       57\n",
       "12 GB      33\n",
       "64 GB      30\n",
       "24 GB      23\n",
       "20 GB       7\n",
       "40 GB       7\n",
       "36 GB       3\n",
       "8 GB        1\n",
       "128 GB      1\n",
       "Name: count, dtype: int64"
      ]
     },
     "execution_count": 36,
     "metadata": {},
     "output_type": "execute_result"
    }
   ],
   "source": [
    "df['Ram (Sistem Belleği)'].value_counts()\n",
    "#bu sutunda 2 tane 8 gb var, onun birini değiştiryorum"
   ]
  },
  {
   "cell_type": "code",
   "execution_count": 37,
   "id": "e2053289-429e-44e9-958b-8a08db429123",
   "metadata": {},
   "outputs": [],
   "source": [
    "df.loc[df.index[-1], 'Ram (Sistem Belleği)'] = '9 GB'"
   ]
  },
  {
   "cell_type": "code",
   "execution_count": 38,
   "id": "5366adc2-35a0-4402-9fde-f8e80aeaa37f",
   "metadata": {},
   "outputs": [
    {
     "data": {
      "text/plain": [
       "Ram (Sistem Belleği)\n",
       "16 GB     530\n",
       "8 GB      349\n",
       "32 GB     194\n",
       "4 GB       57\n",
       "12 GB      33\n",
       "64 GB      30\n",
       "24 GB      23\n",
       "20 GB       7\n",
       "40 GB       7\n",
       "36 GB       3\n",
       "8 GB        1\n",
       "128 GB      1\n",
       "9 GB        1\n",
       "Name: count, dtype: int64"
      ]
     },
     "execution_count": 38,
     "metadata": {},
     "output_type": "execute_result"
    }
   ],
   "source": [
    "df['Ram (Sistem Belleği)'].value_counts()"
   ]
  },
  {
   "cell_type": "code",
   "execution_count": 39,
   "id": "abf43055-820c-4bc0-8c50-ef5d34a3271e",
   "metadata": {},
   "outputs": [],
   "source": [
    "# Varsayalım veri 'data' adlı bir DataFrame'de\n",
    "d = {'16 GB':0, '8 GB':1, '32 GB':2, '4 GB':3, '12 GB':4, '64 GB':5, '24 GB':6, '20 GB':7, '40 GB':8, '36 GB':9, '8 GB':10, '128 GB':11, '9 GB':12}\n",
    "\n",
    "# Sütun adındaki değerleri sayılara dönüştürme\n",
    "df['Ram (Sistem Belleği)'] = df['Ram (Sistem Belleği)'].map(d)"
   ]
  },
  {
   "cell_type": "code",
   "execution_count": 40,
   "id": "569dece4-4b2a-479c-bda8-8416e3270eb5",
   "metadata": {},
   "outputs": [
    {
     "name": "stdout",
     "output_type": "stream",
     "text": [
      "<class 'pandas.core.frame.DataFrame'>\n",
      "RangeIndex: 1243 entries, 0 to 1242\n",
      "Data columns (total 19 columns):\n",
      " #   Column                   Non-Null Count  Dtype  \n",
      "---  ------                   --------------  -----  \n",
      " 0   Bellek Hızı              1243 non-null   float64\n",
      " 1   Cihaz Ağırlığı           1234 non-null   object \n",
      " 2   Ekran Boyutu             1243 non-null   float64\n",
      " 3   Ekran Kartı Bellek Tipi  1243 non-null   float64\n",
      " 4   Ekran Kartı Hafızası     1243 non-null   float64\n",
      " 5   Ekran Kartı Tipi         1243 non-null   float64\n",
      " 6   Ekran Panel Tipi         1243 non-null   object \n",
      " 7   İşlemci Nesli            1195 non-null   object \n",
      " 8   İşlemci                  1243 non-null   float64\n",
      " 9   İşletim Sistemi          1243 non-null   object \n",
      " 10  Kart Okuyucu             1243 non-null   float64\n",
      " 11  Aydınlatma               1243 non-null   int64  \n",
      " 12  Maksimum İşlemci Hızı    1199 non-null   object \n",
      " 13  Max Ekran Çözünürlüğü    1237 non-null   object \n",
      " 14  Parmak İzi Okuyucu       1243 non-null   float64\n",
      " 15  Ram (Sistem Belleği)     1235 non-null   float64\n",
      " 16  SSD Kapasitesi           1243 non-null   float64\n",
      " 17  Ürün Modeli              1243 non-null   object \n",
      " 18  Fiyat                    1243 non-null   object \n",
      "dtypes: float64(10), int64(1), object(8)\n",
      "memory usage: 184.6+ KB\n"
     ]
    }
   ],
   "source": [
    "df.info()"
   ]
  },
  {
   "cell_type": "code",
   "execution_count": 41,
   "id": "aaeb7824-07d8-4082-9bde-ae2cc8352ae4",
   "metadata": {},
   "outputs": [],
   "source": [
    "df['Ram (Sistem Belleği)'] = df['Ram (Sistem Belleği)'].fillna(0)"
   ]
  },
  {
   "cell_type": "markdown",
   "id": "cc36cd9e-25f4-41df-822e-41d65477f821",
   "metadata": {},
   "source": [
    "df['Ram (Sistem Belleği)'] = df['Ram (Sistem Belleği)'].astype(int)"
   ]
  },
  {
   "cell_type": "code",
   "execution_count": 42,
   "id": "a9c4e610-bb0d-42de-bc86-7807b1b02943",
   "metadata": {},
   "outputs": [],
   "source": [
    "d={'Android':0,'Windows 10 Home':1,'Yok (Free Dos)':2,'Windows 11 Home':3,'Windows 10 Pro':4,'Windows 11 Pro':5,'macOS':6,'Chrome OS':7,'Ubuntu':8,}"
   ]
  },
  {
   "cell_type": "code",
   "execution_count": 43,
   "id": "88877231-f64c-40b8-a8da-61e0cc1c0b66",
   "metadata": {},
   "outputs": [],
   "source": [
    "df['İşletim Sistemi']=df['İşletim Sistemi'].map(d)"
   ]
  },
  {
   "cell_type": "code",
   "execution_count": 44,
   "id": "58b11797-39f6-4c8f-a8a9-2d56e415faec",
   "metadata": {},
   "outputs": [],
   "source": [
    "d={'Notebook':0,'Oyun Bilgisayarları':1,'İkisi Bir Arada':2,'Ultrabook':3,}"
   ]
  },
  {
   "cell_type": "code",
   "execution_count": 45,
   "id": "b832df6a-cc42-46f0-b365-15d5ec1ad8d1",
   "metadata": {},
   "outputs": [],
   "source": [
    "df['Ürün Modeli']=df['Ürün Modeli'].map(d)"
   ]
  },
  {
   "cell_type": "code",
   "execution_count": 46,
   "id": "cc6d5232-241e-41af-94f0-08425401d854",
   "metadata": {},
   "outputs": [],
   "source": [
    "d = {'IPS': 0, 'TN': 1, 'WVA': 2, 'LED': 3, 'OLED': 4, 'Liquid Retina XDR': 5, 'SVA': 6, 'LTPS': 7, 'Mini LED': 8, 'Liquid Retina Ekran': 9}\n",
    "df['Ekran Panel Tipi'] = df['Ekran Panel Tipi'].map(d)"
   ]
  },
  {
   "cell_type": "code",
   "execution_count": 47,
   "id": "d28b479a-e1a6-46df-8007-9bc95607426b",
   "metadata": {},
   "outputs": [],
   "source": [
    "d={'Çok Düşük':0,'Düşük':1,'Orta':2,'Yüksek':3,'Yüksek':4,}"
   ]
  },
  {
   "cell_type": "code",
   "execution_count": 48,
   "id": "ff01393a-ee8a-4b4a-a023-adc45bf272f2",
   "metadata": {},
   "outputs": [],
   "source": [
    "df['Fiyat']=df['Fiyat'].map(d)"
   ]
  },
  {
   "cell_type": "markdown",
   "id": "2cd7824f-d662-4334-98a9-25e565b27f3d",
   "metadata": {},
   "source": [
    "* silinen sutunlar"
   ]
  },
  {
   "cell_type": "code",
   "execution_count": 49,
   "id": "069c07ff-19c5-4f8f-b968-7c2471830e5a",
   "metadata": {},
   "outputs": [],
   "source": [
    "del df['Cihaz Ağırlığı']"
   ]
  },
  {
   "cell_type": "code",
   "execution_count": 50,
   "id": "6b20116a-708b-4276-88f9-bb1f1f22c68c",
   "metadata": {},
   "outputs": [],
   "source": [
    "del df['İşlemci Nesli']\n",
    "#işlemci sutunu yeterli olduğ u için bu sutunu sildim"
   ]
  },
  {
   "cell_type": "code",
   "execution_count": 51,
   "id": "191308a2-015a-4e05-a7fd-0ead80505ee8",
   "metadata": {},
   "outputs": [],
   "source": [
    "del df['Maksimum İşlemci Hızı']"
   ]
  },
  {
   "cell_type": "code",
   "execution_count": 52,
   "id": "85b86809-7676-41c4-a6a9-9816e6c4a249",
   "metadata": {},
   "outputs": [],
   "source": [
    "del df['Max Ekran Çözünürlüğü']"
   ]
  },
  {
   "cell_type": "code",
   "execution_count": 53,
   "id": "b54a0ad7-e7ff-45c4-8971-e4e810e60b46",
   "metadata": {},
   "outputs": [
    {
     "data": {
      "image/png": "[encoded data removed]",
      "text/plain": [
       "<Figure size 700x700 with 2 Axes>"
      ]
     },
     "metadata": {},
     "output_type": "display_data"
    }
   ],
   "source": [
    "plt.figure(figsize=(7,7))\n",
    "sns.heatmap(df.corr(numeric_only=True),annot=True,cmap='crest');"
   ]
  },
  {
   "cell_type": "code",
   "execution_count": 54,
   "id": "f9bdce61-ac85-4b53-895d-101f2e9e56fa",
   "metadata": {},
   "outputs": [
    {
     "data": {
      "text/plain": [
       "Ekran Boyutu               0.054146\n",
       "İşletim Sistemi            0.086387\n",
       "Ekran Kartı Hafızası       0.098110\n",
       "Parmak İzi Okuyucu         0.103182\n",
       "Kart Okuyucu               0.111207\n",
       "Ekran Panel Tipi           0.150037\n",
       "Aydınlatma                 0.292057\n",
       "Ekran Kartı Bellek Tipi    0.301223\n",
       "Ram (Sistem Belleği)       0.303966\n",
       "Bellek Hızı                0.334258\n",
       "Ürün Modeli                0.347461\n",
       "SSD Kapasitesi             0.379729\n",
       "İşlemci                    0.400036\n",
       "Ekran Kartı Tipi           0.504449\n",
       "Fiyat                      1.000000\n",
       "Name: Fiyat, dtype: float64"
      ]
     },
     "execution_count": 54,
     "metadata": {},
     "output_type": "execute_result"
    }
   ],
   "source": [
    "abs(df.corr(numeric_only=True)['Fiyat']).sort_values(ascending=True)"
   ]
  },
  {
   "cell_type": "code",
   "execution_count": 55,
   "id": "c58b23e9-090f-42f3-8e9d-53e8463a8d5c",
   "metadata": {},
   "outputs": [
    {
     "data": {
      "text/html": [
       "<div>\n",
       "<style scoped>\n",
       "    .dataframe tbody tr th:only-of-type {\n",
       "        vertical-align: middle;\n",
       "    }\n",
       "\n",
       "    .dataframe tbody tr th {\n",
       "        vertical-align: top;\n",
       "    }\n",
       "\n",
       "    .dataframe thead th {\n",
       "        text-align: right;\n",
       "    }\n",
       "</style>\n",
       "<table border=\"1\" class=\"dataframe\">\n",
       "  <thead>\n",
       "    <tr style=\"text-align: right;\">\n",
       "      <th></th>\n",
       "      <th>Bellek Hızı</th>\n",
       "      <th>Ekran Boyutu</th>\n",
       "      <th>Ekran Kartı Bellek Tipi</th>\n",
       "      <th>Ekran Kartı Hafızası</th>\n",
       "      <th>Ekran Kartı Tipi</th>\n",
       "      <th>Ekran Panel Tipi</th>\n",
       "      <th>İşlemci</th>\n",
       "      <th>İşletim Sistemi</th>\n",
       "      <th>Kart Okuyucu</th>\n",
       "      <th>Aydınlatma</th>\n",
       "      <th>Parmak İzi Okuyucu</th>\n",
       "      <th>Ram (Sistem Belleği)</th>\n",
       "      <th>SSD Kapasitesi</th>\n",
       "      <th>Ürün Modeli</th>\n",
       "      <th>Fiyat</th>\n",
       "    </tr>\n",
       "  </thead>\n",
       "  <tbody>\n",
       "    <tr>\n",
       "      <th>0</th>\n",
       "      <td>1066.0</td>\n",
       "      <td>10.0</td>\n",
       "      <td>0.545455</td>\n",
       "      <td>0.000000</td>\n",
       "      <td>0.599668</td>\n",
       "      <td>0</td>\n",
       "      <td>1000.0</td>\n",
       "      <td>0</td>\n",
       "      <td>0.538185</td>\n",
       "      <td>0</td>\n",
       "      <td>0.220264</td>\n",
       "      <td>0.0</td>\n",
       "      <td>9.0</td>\n",
       "      <td>0</td>\n",
       "      <td>NaN</td>\n",
       "    </tr>\n",
       "    <tr>\n",
       "      <th>1</th>\n",
       "      <td>1066.0</td>\n",
       "      <td>10.0</td>\n",
       "      <td>0.545455</td>\n",
       "      <td>0.000000</td>\n",
       "      <td>0.599668</td>\n",
       "      <td>0</td>\n",
       "      <td>1000.0</td>\n",
       "      <td>0</td>\n",
       "      <td>0.538185</td>\n",
       "      <td>0</td>\n",
       "      <td>0.220264</td>\n",
       "      <td>0.0</td>\n",
       "      <td>9.0</td>\n",
       "      <td>0</td>\n",
       "      <td>NaN</td>\n",
       "    </tr>\n",
       "    <tr>\n",
       "      <th>2</th>\n",
       "      <td>1066.0</td>\n",
       "      <td>10.0</td>\n",
       "      <td>0.545455</td>\n",
       "      <td>0.000000</td>\n",
       "      <td>0.599668</td>\n",
       "      <td>0</td>\n",
       "      <td>1000.0</td>\n",
       "      <td>0</td>\n",
       "      <td>0.538185</td>\n",
       "      <td>0</td>\n",
       "      <td>0.220264</td>\n",
       "      <td>0.0</td>\n",
       "      <td>9.0</td>\n",
       "      <td>0</td>\n",
       "      <td>2.0</td>\n",
       "    </tr>\n",
       "    <tr>\n",
       "      <th>3</th>\n",
       "      <td>3200.0</td>\n",
       "      <td>15.6</td>\n",
       "      <td>3.000000</td>\n",
       "      <td>2.692308</td>\n",
       "      <td>1.000000</td>\n",
       "      <td>3</td>\n",
       "      <td>1035.0</td>\n",
       "      <td>1</td>\n",
       "      <td>1.000000</td>\n",
       "      <td>0</td>\n",
       "      <td>0.000000</td>\n",
       "      <td>10.0</td>\n",
       "      <td>8.0</td>\n",
       "      <td>0</td>\n",
       "      <td>1.0</td>\n",
       "    </tr>\n",
       "    <tr>\n",
       "      <th>4</th>\n",
       "      <td>3200.0</td>\n",
       "      <td>15.6</td>\n",
       "      <td>2.000000</td>\n",
       "      <td>2.692308</td>\n",
       "      <td>1.000000</td>\n",
       "      <td>3</td>\n",
       "      <td>1035.0</td>\n",
       "      <td>1</td>\n",
       "      <td>0.000000</td>\n",
       "      <td>0</td>\n",
       "      <td>0.000000</td>\n",
       "      <td>4.0</td>\n",
       "      <td>9.0</td>\n",
       "      <td>0</td>\n",
       "      <td>1.0</td>\n",
       "    </tr>\n",
       "  </tbody>\n",
       "</table>\n",
       "</div>"
      ],
      "text/plain": [
       "   Bellek Hızı  Ekran Boyutu  Ekran Kartı Bellek Tipi  Ekran Kartı Hafızası  \\\n",
       "0       1066.0          10.0                 0.545455              0.000000   \n",
       "1       1066.0          10.0                 0.545455              0.000000   \n",
       "2       1066.0          10.0                 0.545455              0.000000   \n",
       "3       3200.0          15.6                 3.000000              2.692308   \n",
       "4       3200.0          15.6                 2.000000              2.692308   \n",
       "\n",
       "   Ekran Kartı Tipi  Ekran Panel Tipi  İşlemci  İşletim Sistemi  Kart Okuyucu  \\\n",
       "0          0.599668                 0   1000.0                0      0.538185   \n",
       "1          0.599668                 0   1000.0                0      0.538185   \n",
       "2          0.599668                 0   1000.0                0      0.538185   \n",
       "3          1.000000                 3   1035.0                1      1.000000   \n",
       "4          1.000000                 3   1035.0                1      0.000000   \n",
       "\n",
       "   Aydınlatma  Parmak İzi Okuyucu  Ram (Sistem Belleği)  SSD Kapasitesi  \\\n",
       "0           0            0.220264                   0.0             9.0   \n",
       "1           0            0.220264                   0.0             9.0   \n",
       "2           0            0.220264                   0.0             9.0   \n",
       "3           0            0.000000                  10.0             8.0   \n",
       "4           0            0.000000                   4.0             9.0   \n",
       "\n",
       "   Ürün Modeli  Fiyat  \n",
       "0            0    NaN  \n",
       "1            0    NaN  \n",
       "2            0    2.0  \n",
       "3            0    1.0  \n",
       "4            0    1.0  "
      ]
     },
     "execution_count": 55,
     "metadata": {},
     "output_type": "execute_result"
    }
   ],
   "source": [
    "df.head()"
   ]
  },
  {
   "cell_type": "code",
   "execution_count": 56,
   "id": "84355488-b68b-4ccd-a730-1210f0d34b95",
   "metadata": {},
   "outputs": [
    {
     "data": {
      "text/plain": [
       "<Axes: xlabel='İşlemci', ylabel='Density'>"
      ]
     },
     "execution_count": 56,
     "metadata": {},
     "output_type": "execute_result"
    },
    {
     "data": {
      "image/png": "[encoded data removed]",
      "text/plain": [
       "<Figure size 640x480 with 1 Axes>"
      ]
     },
     "metadata": {},
     "output_type": "display_data"
    }
   ],
   "source": [
    "sns.kdeplot(x=df['İşlemci'])\n",
    "#data sağa doğru kaymış mı emin değilim,bence çok kaymamış,kesmesem de olur"
   ]
  },
  {
   "cell_type": "code",
   "execution_count": 57,
   "id": "a004efec-6246-40e3-8c1c-b810e2b77056",
   "metadata": {},
   "outputs": [
    {
     "data": {
      "text/plain": [
       "<Axes: xlabel='Ekran Kartı Tipi', ylabel='Density'>"
      ]
     },
     "execution_count": 57,
     "metadata": {},
     "output_type": "execute_result"
    },
    {
     "data": {
      "image/png": "[encoded data removed]",
      "text/plain": [
       "<Figure size 640x480 with 1 Axes>"
      ]
     },
     "metadata": {},
     "output_type": "display_data"
    }
   ],
   "source": [
    "sns.kdeplot(x=df['Ekran Kartı Tipi'])"
   ]
  },
  {
   "cell_type": "code",
   "execution_count": 58,
   "id": "7b8051ea-83a9-47db-b627-16a7c8f4c989",
   "metadata": {},
   "outputs": [
    {
     "data": {
      "text/plain": [
       "<Axes: xlabel='Kart Okuyucu', ylabel='Density'>"
      ]
     },
     "execution_count": 58,
     "metadata": {},
     "output_type": "execute_result"
    },
    {
     "data": {
      "image/png": "[encoded data removed]",
      "text/plain": [
       "<Figure size 640x480 with 1 Axes>"
      ]
     },
     "metadata": {},
     "output_type": "display_data"
    }
   ],
   "source": [
    "sns.kdeplot(x=df['Kart Okuyucu'])"
   ]
  },
  {
   "cell_type": "code",
   "execution_count": 59,
   "id": "72425318-4701-4d53-bab5-77d4b8cf4b07",
   "metadata": {},
   "outputs": [
    {
     "data": {
      "text/plain": [
       "<Axes: xlabel='Ram (Sistem Belleği)', ylabel='Density'>"
      ]
     },
     "execution_count": 59,
     "metadata": {},
     "output_type": "execute_result"
    },
    {
     "data": {
      "image/png": "[encoded data removed]",
      "text/plain": [
       "<Figure size 640x480 with 1 Axes>"
      ]
     },
     "metadata": {},
     "output_type": "display_data"
    }
   ],
   "source": [
    "sns.kdeplot(x=df['Ram (Sistem Belleği)'])"
   ]
  },
  {
   "cell_type": "code",
   "execution_count": 60,
   "id": "9425f2ba-13bd-4e3c-8f3c-d83550ccfe8e",
   "metadata": {},
   "outputs": [
    {
     "data": {
      "text/plain": [
       "<Axes: xlabel='Ürün Modeli', ylabel='Density'>"
      ]
     },
     "execution_count": 60,
     "metadata": {},
     "output_type": "execute_result"
    },
    {
     "data": {
      "image/png": "[encoded data removed]",
      "text/plain": [
       "<Figure size 640x480 with 1 Axes>"
      ]
     },
     "metadata": {},
     "output_type": "display_data"
    }
   ],
   "source": [
    "sns.kdeplot(x=df['Ürün Modeli'])"
   ]
  },
  {
   "cell_type": "markdown",
   "id": "4b4f56b2-43d1-492d-936e-70e8b026483b",
   "metadata": {},
   "source": [
    "# Feature engineering"
   ]
  },
  {
   "cell_type": "code",
   "execution_count": 61,
   "id": "58188eac-c9ca-43cd-8f94-f86a73cc8933",
   "metadata": {},
   "outputs": [
    {
     "data": {
      "text/plain": [
       "Index(['Bellek Hızı', 'Ekran Boyutu', 'Ekran Kartı Bellek Tipi',\n",
       "       'Ekran Kartı Hafızası', 'Ekran Kartı Tipi', 'Ekran Panel Tipi',\n",
       "       'İşlemci', 'İşletim Sistemi', 'Kart Okuyucu', 'Aydınlatma',\n",
       "       'Parmak İzi Okuyucu', 'Ram (Sistem Belleği)', 'SSD Kapasitesi',\n",
       "       'Ürün Modeli', 'Fiyat'],\n",
       "      dtype='object')"
      ]
     },
     "execution_count": 61,
     "metadata": {},
     "output_type": "execute_result"
    }
   ],
   "source": [
    "df.columns"
   ]
  },
  {
   "cell_type": "code",
   "execution_count": 62,
   "id": "2921e97e-48a4-4b62-9638-4491bf33498e",
   "metadata": {},
   "outputs": [
    {
     "name": "stdout",
     "output_type": "stream",
     "text": [
      "<class 'pandas.core.frame.DataFrame'>\n",
      "RangeIndex: 1243 entries, 0 to 1242\n",
      "Data columns (total 15 columns):\n",
      " #   Column                   Non-Null Count  Dtype  \n",
      "---  ------                   --------------  -----  \n",
      " 0   Bellek Hızı              1243 non-null   float64\n",
      " 1   Ekran Boyutu             1243 non-null   float64\n",
      " 2   Ekran Kartı Bellek Tipi  1243 non-null   float64\n",
      " 3   Ekran Kartı Hafızası     1243 non-null   float64\n",
      " 4   Ekran Kartı Tipi         1243 non-null   float64\n",
      " 5   Ekran Panel Tipi         1243 non-null   int64  \n",
      " 6   İşlemci                  1243 non-null   float64\n",
      " 7   İşletim Sistemi          1243 non-null   int64  \n",
      " 8   Kart Okuyucu             1243 non-null   float64\n",
      " 9   Aydınlatma               1243 non-null   int64  \n",
      " 10  Parmak İzi Okuyucu       1243 non-null   float64\n",
      " 11  Ram (Sistem Belleği)     1243 non-null   float64\n",
      " 12  SSD Kapasitesi           1243 non-null   float64\n",
      " 13  Ürün Modeli              1243 non-null   int64  \n",
      " 14  Fiyat                    1126 non-null   float64\n",
      "dtypes: float64(11), int64(4)\n",
      "memory usage: 145.8 KB\n"
     ]
    }
   ],
   "source": [
    "df.info()"
   ]
  },
  {
   "cell_type": "code",
   "execution_count": 63,
   "id": "048fbf15-ff81-4ff2-9ebf-226f1b6b6014",
   "metadata": {},
   "outputs": [
    {
     "data": {
      "text/plain": [
       "Bellek Hızı                  0\n",
       "Ekran Boyutu                 0\n",
       "Ekran Kartı Bellek Tipi      0\n",
       "Ekran Kartı Hafızası         0\n",
       "Ekran Kartı Tipi             0\n",
       "Ekran Panel Tipi             0\n",
       "İşlemci                      0\n",
       "İşletim Sistemi              0\n",
       "Kart Okuyucu                 0\n",
       "Aydınlatma                   0\n",
       "Parmak İzi Okuyucu           0\n",
       "Ram (Sistem Belleği)         0\n",
       "SSD Kapasitesi               0\n",
       "Ürün Modeli                  0\n",
       "Fiyat                      117\n",
       "dtype: int64"
      ]
     },
     "execution_count": 63,
     "metadata": {},
     "output_type": "execute_result"
    }
   ],
   "source": [
    "df.isnull().sum()"
   ]
  },
  {
   "cell_type": "markdown",
   "id": "d875de55-5184-4cb8-a5bf-24eebf9da0eb",
   "metadata": {},
   "source": [
    "# Scaling - Normalization"
   ]
  },
  {
   "cell_type": "code",
   "execution_count": 65,
   "id": "c8f1cb86-22c6-4108-bada-04d8672bda59",
   "metadata": {},
   "outputs": [],
   "source": [
    "from sklearn.preprocessing import normalize, scale"
   ]
  },
  {
   "cell_type": "code",
   "execution_count": 66,
   "id": "fc7d4ef4-e3e5-4d9b-b3f6-f33b080ac6bc",
   "metadata": {},
   "outputs": [],
   "source": [
    "df['Fiyat'] = df['Fiyat'].fillna(0)"
   ]
  },
  {
   "cell_type": "code",
   "execution_count": 67,
   "id": "f87faa4b-43f8-4242-a363-ed08dd044be6",
   "metadata": {},
   "outputs": [
    {
     "data": {
      "text/html": [
       "<div>\n",
       "<style scoped>\n",
       "    .dataframe tbody tr th:only-of-type {\n",
       "        vertical-align: middle;\n",
       "    }\n",
       "\n",
       "    .dataframe tbody tr th {\n",
       "        vertical-align: top;\n",
       "    }\n",
       "\n",
       "    .dataframe thead th {\n",
       "        text-align: right;\n",
       "    }\n",
       "</style>\n",
       "<table border=\"1\" class=\"dataframe\">\n",
       "  <thead>\n",
       "    <tr style=\"text-align: right;\">\n",
       "      <th></th>\n",
       "      <th>Bellek Hızı</th>\n",
       "      <th>Ekran Boyutu</th>\n",
       "      <th>Ekran Kartı Bellek Tipi</th>\n",
       "      <th>Ekran Kartı Hafızası</th>\n",
       "      <th>Ekran Kartı Tipi</th>\n",
       "      <th>Ekran Panel Tipi</th>\n",
       "      <th>İşlemci</th>\n",
       "      <th>İşletim Sistemi</th>\n",
       "      <th>Kart Okuyucu</th>\n",
       "      <th>Aydınlatma</th>\n",
       "      <th>Parmak İzi Okuyucu</th>\n",
       "      <th>Ram (Sistem Belleği)</th>\n",
       "      <th>SSD Kapasitesi</th>\n",
       "      <th>Ürün Modeli</th>\n",
       "      <th>Fiyat</th>\n",
       "    </tr>\n",
       "  </thead>\n",
       "  <tbody>\n",
       "    <tr>\n",
       "      <th>666</th>\n",
       "      <td>3200.0</td>\n",
       "      <td>15.6</td>\n",
       "      <td>1.0</td>\n",
       "      <td>3.000000</td>\n",
       "      <td>1.0</td>\n",
       "      <td>0</td>\n",
       "      <td>13700.0</td>\n",
       "      <td>3</td>\n",
       "      <td>1.0</td>\n",
       "      <td>1</td>\n",
       "      <td>0.0</td>\n",
       "      <td>2.0</td>\n",
       "      <td>9.0</td>\n",
       "      <td>1</td>\n",
       "      <td>4.0</td>\n",
       "    </tr>\n",
       "    <tr>\n",
       "      <th>186</th>\n",
       "      <td>3200.0</td>\n",
       "      <td>14.0</td>\n",
       "      <td>0.0</td>\n",
       "      <td>2.692308</td>\n",
       "      <td>0.0</td>\n",
       "      <td>1</td>\n",
       "      <td>1115.0</td>\n",
       "      <td>2</td>\n",
       "      <td>0.0</td>\n",
       "      <td>0</td>\n",
       "      <td>0.0</td>\n",
       "      <td>4.0</td>\n",
       "      <td>8.0</td>\n",
       "      <td>0</td>\n",
       "      <td>0.0</td>\n",
       "    </tr>\n",
       "    <tr>\n",
       "      <th>1211</th>\n",
       "      <td>3200.0</td>\n",
       "      <td>15.6</td>\n",
       "      <td>1.0</td>\n",
       "      <td>2.000000</td>\n",
       "      <td>0.0</td>\n",
       "      <td>0</td>\n",
       "      <td>5600.0</td>\n",
       "      <td>2</td>\n",
       "      <td>1.0</td>\n",
       "      <td>0</td>\n",
       "      <td>0.0</td>\n",
       "      <td>0.0</td>\n",
       "      <td>9.0</td>\n",
       "      <td>0</td>\n",
       "      <td>1.0</td>\n",
       "    </tr>\n",
       "    <tr>\n",
       "      <th>976</th>\n",
       "      <td>2666.0</td>\n",
       "      <td>15.6</td>\n",
       "      <td>0.0</td>\n",
       "      <td>2.692308</td>\n",
       "      <td>0.0</td>\n",
       "      <td>1</td>\n",
       "      <td>5030.0</td>\n",
       "      <td>3</td>\n",
       "      <td>0.0</td>\n",
       "      <td>0</td>\n",
       "      <td>0.0</td>\n",
       "      <td>3.0</td>\n",
       "      <td>3.0</td>\n",
       "      <td>0</td>\n",
       "      <td>0.0</td>\n",
       "    </tr>\n",
       "    <tr>\n",
       "      <th>134</th>\n",
       "      <td>3200.0</td>\n",
       "      <td>15.6</td>\n",
       "      <td>1.0</td>\n",
       "      <td>2.000000</td>\n",
       "      <td>2.0</td>\n",
       "      <td>0</td>\n",
       "      <td>10300.0</td>\n",
       "      <td>2</td>\n",
       "      <td>1.0</td>\n",
       "      <td>0</td>\n",
       "      <td>0.0</td>\n",
       "      <td>10.0</td>\n",
       "      <td>8.0</td>\n",
       "      <td>1</td>\n",
       "      <td>1.0</td>\n",
       "    </tr>\n",
       "  </tbody>\n",
       "</table>\n",
       "</div>"
      ],
      "text/plain": [
       "      Bellek Hızı  Ekran Boyutu  Ekran Kartı Bellek Tipi  \\\n",
       "666        3200.0          15.6                      1.0   \n",
       "186        3200.0          14.0                      0.0   \n",
       "1211       3200.0          15.6                      1.0   \n",
       "976        2666.0          15.6                      0.0   \n",
       "134        3200.0          15.6                      1.0   \n",
       "\n",
       "      Ekran Kartı Hafızası  Ekran Kartı Tipi  Ekran Panel Tipi  İşlemci  \\\n",
       "666               3.000000               1.0                 0  13700.0   \n",
       "186               2.692308               0.0                 1   1115.0   \n",
       "1211              2.000000               0.0                 0   5600.0   \n",
       "976               2.692308               0.0                 1   5030.0   \n",
       "134               2.000000               2.0                 0  10300.0   \n",
       "\n",
       "      İşletim Sistemi  Kart Okuyucu  Aydınlatma  Parmak İzi Okuyucu  \\\n",
       "666                 3           1.0           1                 0.0   \n",
       "186                 2           0.0           0                 0.0   \n",
       "1211                2           1.0           0                 0.0   \n",
       "976                 3           0.0           0                 0.0   \n",
       "134                 2           1.0           0                 0.0   \n",
       "\n",
       "      Ram (Sistem Belleği)  SSD Kapasitesi  Ürün Modeli  Fiyat  \n",
       "666                    2.0             9.0            1    4.0  \n",
       "186                    4.0             8.0            0    0.0  \n",
       "1211                   0.0             9.0            0    1.0  \n",
       "976                    3.0             3.0            0    0.0  \n",
       "134                   10.0             8.0            1    1.0  "
      ]
     },
     "execution_count": 67,
     "metadata": {},
     "output_type": "execute_result"
    }
   ],
   "source": [
    "df.sample(5)"
   ]
  },
  {
   "cell_type": "code",
   "execution_count": 69,
   "id": "e884919f-4a84-4f4e-be98-6d0be4dc60de",
   "metadata": {},
   "outputs": [],
   "source": [
    "x=df.drop('Fiyat', axis=1)"
   ]
  },
  {
   "cell_type": "code",
   "execution_count": 70,
   "id": "5637d5c8-053b-4b45-9781-8f99d3f8cff2",
   "metadata": {},
   "outputs": [
    {
     "data": {
      "text/html": [
       "<div>\n",
       "<style scoped>\n",
       "    .dataframe tbody tr th:only-of-type {\n",
       "        vertical-align: middle;\n",
       "    }\n",
       "\n",
       "    .dataframe tbody tr th {\n",
       "        vertical-align: top;\n",
       "    }\n",
       "\n",
       "    .dataframe thead th {\n",
       "        text-align: right;\n",
       "    }\n",
       "</style>\n",
       "<table border=\"1\" class=\"dataframe\">\n",
       "  <thead>\n",
       "    <tr style=\"text-align: right;\">\n",
       "      <th></th>\n",
       "      <th>Bellek Hızı</th>\n",
       "      <th>Ekran Boyutu</th>\n",
       "      <th>Ekran Kartı Bellek Tipi</th>\n",
       "      <th>Ekran Kartı Hafızası</th>\n",
       "      <th>Ekran Kartı Tipi</th>\n",
       "      <th>Ekran Panel Tipi</th>\n",
       "      <th>İşlemci</th>\n",
       "      <th>İşletim Sistemi</th>\n",
       "      <th>Kart Okuyucu</th>\n",
       "      <th>Aydınlatma</th>\n",
       "      <th>Parmak İzi Okuyucu</th>\n",
       "      <th>Ram (Sistem Belleği)</th>\n",
       "      <th>SSD Kapasitesi</th>\n",
       "      <th>Ürün Modeli</th>\n",
       "    </tr>\n",
       "  </thead>\n",
       "  <tbody>\n",
       "    <tr>\n",
       "      <th>0</th>\n",
       "      <td>1066.0</td>\n",
       "      <td>10.0</td>\n",
       "      <td>0.545455</td>\n",
       "      <td>0.000000</td>\n",
       "      <td>0.599668</td>\n",
       "      <td>0</td>\n",
       "      <td>1000.0</td>\n",
       "      <td>0</td>\n",
       "      <td>0.538185</td>\n",
       "      <td>0</td>\n",
       "      <td>0.220264</td>\n",
       "      <td>0.0</td>\n",
       "      <td>9.0</td>\n",
       "      <td>0</td>\n",
       "    </tr>\n",
       "    <tr>\n",
       "      <th>1</th>\n",
       "      <td>1066.0</td>\n",
       "      <td>10.0</td>\n",
       "      <td>0.545455</td>\n",
       "      <td>0.000000</td>\n",
       "      <td>0.599668</td>\n",
       "      <td>0</td>\n",
       "      <td>1000.0</td>\n",
       "      <td>0</td>\n",
       "      <td>0.538185</td>\n",
       "      <td>0</td>\n",
       "      <td>0.220264</td>\n",
       "      <td>0.0</td>\n",
       "      <td>9.0</td>\n",
       "      <td>0</td>\n",
       "    </tr>\n",
       "    <tr>\n",
       "      <th>2</th>\n",
       "      <td>1066.0</td>\n",
       "      <td>10.0</td>\n",
       "      <td>0.545455</td>\n",
       "      <td>0.000000</td>\n",
       "      <td>0.599668</td>\n",
       "      <td>0</td>\n",
       "      <td>1000.0</td>\n",
       "      <td>0</td>\n",
       "      <td>0.538185</td>\n",
       "      <td>0</td>\n",
       "      <td>0.220264</td>\n",
       "      <td>0.0</td>\n",
       "      <td>9.0</td>\n",
       "      <td>0</td>\n",
       "    </tr>\n",
       "    <tr>\n",
       "      <th>3</th>\n",
       "      <td>3200.0</td>\n",
       "      <td>15.6</td>\n",
       "      <td>3.000000</td>\n",
       "      <td>2.692308</td>\n",
       "      <td>1.000000</td>\n",
       "      <td>3</td>\n",
       "      <td>1035.0</td>\n",
       "      <td>1</td>\n",
       "      <td>1.000000</td>\n",
       "      <td>0</td>\n",
       "      <td>0.000000</td>\n",
       "      <td>10.0</td>\n",
       "      <td>8.0</td>\n",
       "      <td>0</td>\n",
       "    </tr>\n",
       "    <tr>\n",
       "      <th>4</th>\n",
       "      <td>3200.0</td>\n",
       "      <td>15.6</td>\n",
       "      <td>2.000000</td>\n",
       "      <td>2.692308</td>\n",
       "      <td>1.000000</td>\n",
       "      <td>3</td>\n",
       "      <td>1035.0</td>\n",
       "      <td>1</td>\n",
       "      <td>0.000000</td>\n",
       "      <td>0</td>\n",
       "      <td>0.000000</td>\n",
       "      <td>4.0</td>\n",
       "      <td>9.0</td>\n",
       "      <td>0</td>\n",
       "    </tr>\n",
       "  </tbody>\n",
       "</table>\n",
       "</div>"
      ],
      "text/plain": [
       "   Bellek Hızı  Ekran Boyutu  Ekran Kartı Bellek Tipi  Ekran Kartı Hafızası  \\\n",
       "0       1066.0          10.0                 0.545455              0.000000   \n",
       "1       1066.0          10.0                 0.545455              0.000000   \n",
       "2       1066.0          10.0                 0.545455              0.000000   \n",
       "3       3200.0          15.6                 3.000000              2.692308   \n",
       "4       3200.0          15.6                 2.000000              2.692308   \n",
       "\n",
       "   Ekran Kartı Tipi  Ekran Panel Tipi  İşlemci  İşletim Sistemi  Kart Okuyucu  \\\n",
       "0          0.599668                 0   1000.0                0      0.538185   \n",
       "1          0.599668                 0   1000.0                0      0.538185   \n",
       "2          0.599668                 0   1000.0                0      0.538185   \n",
       "3          1.000000                 3   1035.0                1      1.000000   \n",
       "4          1.000000                 3   1035.0                1      0.000000   \n",
       "\n",
       "   Aydınlatma  Parmak İzi Okuyucu  Ram (Sistem Belleği)  SSD Kapasitesi  \\\n",
       "0           0            0.220264                   0.0             9.0   \n",
       "1           0            0.220264                   0.0             9.0   \n",
       "2           0            0.220264                   0.0             9.0   \n",
       "3           0            0.000000                  10.0             8.0   \n",
       "4           0            0.000000                   4.0             9.0   \n",
       "\n",
       "   Ürün Modeli  \n",
       "0            0  \n",
       "1            0  \n",
       "2            0  \n",
       "3            0  \n",
       "4            0  "
      ]
     },
     "execution_count": 70,
     "metadata": {},
     "output_type": "execute_result"
    }
   ],
   "source": [
    "x.head()"
   ]
  },
  {
   "cell_type": "code",
   "execution_count": 71,
   "id": "d42481fd-03df-4aea-83a2-59b9ebff3ff2",
   "metadata": {},
   "outputs": [],
   "source": [
    "yenix=scale(x)"
   ]
  },
  {
   "cell_type": "code",
   "execution_count": 72,
   "id": "36d2b8d1-25d3-4cd4-bb1e-b2f0ead4c61f",
   "metadata": {},
   "outputs": [
    {
     "data": {
      "text/html": [
       "<div>\n",
       "<style scoped>\n",
       "    .dataframe tbody tr th:only-of-type {\n",
       "        vertical-align: middle;\n",
       "    }\n",
       "\n",
       "    .dataframe tbody tr th {\n",
       "        vertical-align: top;\n",
       "    }\n",
       "\n",
       "    .dataframe thead th {\n",
       "        text-align: right;\n",
       "    }\n",
       "</style>\n",
       "<table border=\"1\" class=\"dataframe\">\n",
       "  <thead>\n",
       "    <tr style=\"text-align: right;\">\n",
       "      <th></th>\n",
       "      <th>Bellek Hızı</th>\n",
       "      <th>Ekran Boyutu</th>\n",
       "      <th>Ekran Kartı Bellek Tipi</th>\n",
       "      <th>Ekran Kartı Hafızası</th>\n",
       "      <th>Ekran Kartı Tipi</th>\n",
       "      <th>Ekran Panel Tipi</th>\n",
       "      <th>İşlemci</th>\n",
       "      <th>İşletim Sistemi</th>\n",
       "      <th>Kart Okuyucu</th>\n",
       "      <th>Aydınlatma</th>\n",
       "      <th>Parmak İzi Okuyucu</th>\n",
       "      <th>Ram (Sistem Belleği)</th>\n",
       "      <th>SSD Kapasitesi</th>\n",
       "      <th>Ürün Modeli</th>\n",
       "    </tr>\n",
       "  </thead>\n",
       "  <tbody>\n",
       "    <tr>\n",
       "      <th>0</th>\n",
       "      <td>1066.0</td>\n",
       "      <td>10.0</td>\n",
       "      <td>0.545455</td>\n",
       "      <td>0.000000</td>\n",
       "      <td>0.599668</td>\n",
       "      <td>0</td>\n",
       "      <td>1000.0</td>\n",
       "      <td>0</td>\n",
       "      <td>0.538185</td>\n",
       "      <td>0</td>\n",
       "      <td>0.220264</td>\n",
       "      <td>0.0</td>\n",
       "      <td>9.0</td>\n",
       "      <td>0</td>\n",
       "    </tr>\n",
       "    <tr>\n",
       "      <th>1</th>\n",
       "      <td>1066.0</td>\n",
       "      <td>10.0</td>\n",
       "      <td>0.545455</td>\n",
       "      <td>0.000000</td>\n",
       "      <td>0.599668</td>\n",
       "      <td>0</td>\n",
       "      <td>1000.0</td>\n",
       "      <td>0</td>\n",
       "      <td>0.538185</td>\n",
       "      <td>0</td>\n",
       "      <td>0.220264</td>\n",
       "      <td>0.0</td>\n",
       "      <td>9.0</td>\n",
       "      <td>0</td>\n",
       "    </tr>\n",
       "    <tr>\n",
       "      <th>2</th>\n",
       "      <td>1066.0</td>\n",
       "      <td>10.0</td>\n",
       "      <td>0.545455</td>\n",
       "      <td>0.000000</td>\n",
       "      <td>0.599668</td>\n",
       "      <td>0</td>\n",
       "      <td>1000.0</td>\n",
       "      <td>0</td>\n",
       "      <td>0.538185</td>\n",
       "      <td>0</td>\n",
       "      <td>0.220264</td>\n",
       "      <td>0.0</td>\n",
       "      <td>9.0</td>\n",
       "      <td>0</td>\n",
       "    </tr>\n",
       "    <tr>\n",
       "      <th>3</th>\n",
       "      <td>3200.0</td>\n",
       "      <td>15.6</td>\n",
       "      <td>3.000000</td>\n",
       "      <td>2.692308</td>\n",
       "      <td>1.000000</td>\n",
       "      <td>3</td>\n",
       "      <td>1035.0</td>\n",
       "      <td>1</td>\n",
       "      <td>1.000000</td>\n",
       "      <td>0</td>\n",
       "      <td>0.000000</td>\n",
       "      <td>10.0</td>\n",
       "      <td>8.0</td>\n",
       "      <td>0</td>\n",
       "    </tr>\n",
       "    <tr>\n",
       "      <th>4</th>\n",
       "      <td>3200.0</td>\n",
       "      <td>15.6</td>\n",
       "      <td>2.000000</td>\n",
       "      <td>2.692308</td>\n",
       "      <td>1.000000</td>\n",
       "      <td>3</td>\n",
       "      <td>1035.0</td>\n",
       "      <td>1</td>\n",
       "      <td>0.000000</td>\n",
       "      <td>0</td>\n",
       "      <td>0.000000</td>\n",
       "      <td>4.0</td>\n",
       "      <td>9.0</td>\n",
       "      <td>0</td>\n",
       "    </tr>\n",
       "    <tr>\n",
       "      <th>...</th>\n",
       "      <td>...</td>\n",
       "      <td>...</td>\n",
       "      <td>...</td>\n",
       "      <td>...</td>\n",
       "      <td>...</td>\n",
       "      <td>...</td>\n",
       "      <td>...</td>\n",
       "      <td>...</td>\n",
       "      <td>...</td>\n",
       "      <td>...</td>\n",
       "      <td>...</td>\n",
       "      <td>...</td>\n",
       "      <td>...</td>\n",
       "      <td>...</td>\n",
       "    </tr>\n",
       "    <tr>\n",
       "      <th>1238</th>\n",
       "      <td>3200.0</td>\n",
       "      <td>14.0</td>\n",
       "      <td>0.000000</td>\n",
       "      <td>2.692308</td>\n",
       "      <td>0.000000</td>\n",
       "      <td>0</td>\n",
       "      <td>1135.0</td>\n",
       "      <td>3</td>\n",
       "      <td>1.000000</td>\n",
       "      <td>0</td>\n",
       "      <td>0.000000</td>\n",
       "      <td>0.0</td>\n",
       "      <td>8.0</td>\n",
       "      <td>0</td>\n",
       "    </tr>\n",
       "    <tr>\n",
       "      <th>1239</th>\n",
       "      <td>3200.0</td>\n",
       "      <td>15.6</td>\n",
       "      <td>0.000000</td>\n",
       "      <td>2.692308</td>\n",
       "      <td>0.000000</td>\n",
       "      <td>0</td>\n",
       "      <td>1235.0</td>\n",
       "      <td>2</td>\n",
       "      <td>1.000000</td>\n",
       "      <td>0</td>\n",
       "      <td>1.000000</td>\n",
       "      <td>10.0</td>\n",
       "      <td>7.0</td>\n",
       "      <td>0</td>\n",
       "    </tr>\n",
       "    <tr>\n",
       "      <th>1240</th>\n",
       "      <td>2666.0</td>\n",
       "      <td>15.6</td>\n",
       "      <td>0.000000</td>\n",
       "      <td>2.692308</td>\n",
       "      <td>0.000000</td>\n",
       "      <td>1</td>\n",
       "      <td>4600.0</td>\n",
       "      <td>2</td>\n",
       "      <td>0.000000</td>\n",
       "      <td>0</td>\n",
       "      <td>0.000000</td>\n",
       "      <td>6.0</td>\n",
       "      <td>9.0</td>\n",
       "      <td>0</td>\n",
       "    </tr>\n",
       "    <tr>\n",
       "      <th>1241</th>\n",
       "      <td>3200.0</td>\n",
       "      <td>15.6</td>\n",
       "      <td>0.000000</td>\n",
       "      <td>2.692308</td>\n",
       "      <td>0.000000</td>\n",
       "      <td>0</td>\n",
       "      <td>1235.0</td>\n",
       "      <td>2</td>\n",
       "      <td>1.000000</td>\n",
       "      <td>0</td>\n",
       "      <td>1.000000</td>\n",
       "      <td>2.0</td>\n",
       "      <td>9.0</td>\n",
       "      <td>0</td>\n",
       "    </tr>\n",
       "    <tr>\n",
       "      <th>1242</th>\n",
       "      <td>3200.0</td>\n",
       "      <td>15.6</td>\n",
       "      <td>0.000000</td>\n",
       "      <td>2.692308</td>\n",
       "      <td>0.000000</td>\n",
       "      <td>0</td>\n",
       "      <td>1235.0</td>\n",
       "      <td>2</td>\n",
       "      <td>1.000000</td>\n",
       "      <td>0</td>\n",
       "      <td>1.000000</td>\n",
       "      <td>12.0</td>\n",
       "      <td>9.0</td>\n",
       "      <td>0</td>\n",
       "    </tr>\n",
       "  </tbody>\n",
       "</table>\n",
       "<p>1243 rows × 14 columns</p>\n",
       "</div>"
      ],
      "text/plain": [
       "      Bellek Hızı  Ekran Boyutu  Ekran Kartı Bellek Tipi  \\\n",
       "0          1066.0          10.0                 0.545455   \n",
       "1          1066.0          10.0                 0.545455   \n",
       "2          1066.0          10.0                 0.545455   \n",
       "3          3200.0          15.6                 3.000000   \n",
       "4          3200.0          15.6                 2.000000   \n",
       "...           ...           ...                      ...   \n",
       "1238       3200.0          14.0                 0.000000   \n",
       "1239       3200.0          15.6                 0.000000   \n",
       "1240       2666.0          15.6                 0.000000   \n",
       "1241       3200.0          15.6                 0.000000   \n",
       "1242       3200.0          15.6                 0.000000   \n",
       "\n",
       "      Ekran Kartı Hafızası  Ekran Kartı Tipi  Ekran Panel Tipi  İşlemci  \\\n",
       "0                 0.000000          0.599668                 0   1000.0   \n",
       "1                 0.000000          0.599668                 0   1000.0   \n",
       "2                 0.000000          0.599668                 0   1000.0   \n",
       "3                 2.692308          1.000000                 3   1035.0   \n",
       "4                 2.692308          1.000000                 3   1035.0   \n",
       "...                    ...               ...               ...      ...   \n",
       "1238              2.692308          0.000000                 0   1135.0   \n",
       "1239              2.692308          0.000000                 0   1235.0   \n",
       "1240              2.692308          0.000000                 1   4600.0   \n",
       "1241              2.692308          0.000000                 0   1235.0   \n",
       "1242              2.692308          0.000000                 0   1235.0   \n",
       "\n",
       "      İşletim Sistemi  Kart Okuyucu  Aydınlatma  Parmak İzi Okuyucu  \\\n",
       "0                   0      0.538185           0            0.220264   \n",
       "1                   0      0.538185           0            0.220264   \n",
       "2                   0      0.538185           0            0.220264   \n",
       "3                   1      1.000000           0            0.000000   \n",
       "4                   1      0.000000           0            0.000000   \n",
       "...               ...           ...         ...                 ...   \n",
       "1238                3      1.000000           0            0.000000   \n",
       "1239                2      1.000000           0            1.000000   \n",
       "1240                2      0.000000           0            0.000000   \n",
       "1241                2      1.000000           0            1.000000   \n",
       "1242                2      1.000000           0            1.000000   \n",
       "\n",
       "      Ram (Sistem Belleği)  SSD Kapasitesi  Ürün Modeli  \n",
       "0                      0.0             9.0            0  \n",
       "1                      0.0             9.0            0  \n",
       "2                      0.0             9.0            0  \n",
       "3                     10.0             8.0            0  \n",
       "4                      4.0             9.0            0  \n",
       "...                    ...             ...          ...  \n",
       "1238                   0.0             8.0            0  \n",
       "1239                  10.0             7.0            0  \n",
       "1240                   6.0             9.0            0  \n",
       "1241                   2.0             9.0            0  \n",
       "1242                  12.0             9.0            0  \n",
       "\n",
       "[1243 rows x 14 columns]"
      ]
     },
     "execution_count": 72,
     "metadata": {},
     "output_type": "execute_result"
    }
   ],
   "source": [
    "pd.DataFrame(x)\n",
    "#tüm data birim oldu, hiç birinin üstünlüğü yok"
   ]
  },
  {
   "cell_type": "code",
   "execution_count": 74,
   "id": "077e9389-6566-4876-b349-62c5555e4988",
   "metadata": {},
   "outputs": [],
   "source": [
    "normalizeddata=normalize(x)"
   ]
  },
  {
   "cell_type": "code",
   "execution_count": 75,
   "id": "27c915c9-c555-4242-8889-b163b60a6897",
   "metadata": {},
   "outputs": [
    {
     "data": {
      "text/html": [
       "<div>\n",
       "<style scoped>\n",
       "    .dataframe tbody tr th:only-of-type {\n",
       "        vertical-align: middle;\n",
       "    }\n",
       "\n",
       "    .dataframe tbody tr th {\n",
       "        vertical-align: top;\n",
       "    }\n",
       "\n",
       "    .dataframe thead th {\n",
       "        text-align: right;\n",
       "    }\n",
       "</style>\n",
       "<table border=\"1\" class=\"dataframe\">\n",
       "  <thead>\n",
       "    <tr style=\"text-align: right;\">\n",
       "      <th></th>\n",
       "      <th>0</th>\n",
       "      <th>1</th>\n",
       "      <th>2</th>\n",
       "      <th>3</th>\n",
       "      <th>4</th>\n",
       "      <th>5</th>\n",
       "      <th>6</th>\n",
       "      <th>7</th>\n",
       "      <th>8</th>\n",
       "      <th>9</th>\n",
       "      <th>10</th>\n",
       "      <th>11</th>\n",
       "      <th>12</th>\n",
       "      <th>13</th>\n",
       "    </tr>\n",
       "  </thead>\n",
       "  <tbody>\n",
       "    <tr>\n",
       "      <th>0</th>\n",
       "      <td>0.729293</td>\n",
       "      <td>0.006841</td>\n",
       "      <td>0.000373</td>\n",
       "      <td>0.000000</td>\n",
       "      <td>0.000410</td>\n",
       "      <td>0.000000</td>\n",
       "      <td>0.684140</td>\n",
       "      <td>0.000000</td>\n",
       "      <td>0.000368</td>\n",
       "      <td>0.0</td>\n",
       "      <td>0.000151</td>\n",
       "      <td>0.000000</td>\n",
       "      <td>0.006157</td>\n",
       "      <td>0.0</td>\n",
       "    </tr>\n",
       "    <tr>\n",
       "      <th>1</th>\n",
       "      <td>0.729293</td>\n",
       "      <td>0.006841</td>\n",
       "      <td>0.000373</td>\n",
       "      <td>0.000000</td>\n",
       "      <td>0.000410</td>\n",
       "      <td>0.000000</td>\n",
       "      <td>0.684140</td>\n",
       "      <td>0.000000</td>\n",
       "      <td>0.000368</td>\n",
       "      <td>0.0</td>\n",
       "      <td>0.000151</td>\n",
       "      <td>0.000000</td>\n",
       "      <td>0.006157</td>\n",
       "      <td>0.0</td>\n",
       "    </tr>\n",
       "    <tr>\n",
       "      <th>2</th>\n",
       "      <td>0.729293</td>\n",
       "      <td>0.006841</td>\n",
       "      <td>0.000373</td>\n",
       "      <td>0.000000</td>\n",
       "      <td>0.000410</td>\n",
       "      <td>0.000000</td>\n",
       "      <td>0.684140</td>\n",
       "      <td>0.000000</td>\n",
       "      <td>0.000368</td>\n",
       "      <td>0.0</td>\n",
       "      <td>0.000151</td>\n",
       "      <td>0.000000</td>\n",
       "      <td>0.006157</td>\n",
       "      <td>0.0</td>\n",
       "    </tr>\n",
       "    <tr>\n",
       "      <th>3</th>\n",
       "      <td>0.951452</td>\n",
       "      <td>0.004638</td>\n",
       "      <td>0.000892</td>\n",
       "      <td>0.000801</td>\n",
       "      <td>0.000297</td>\n",
       "      <td>0.000892</td>\n",
       "      <td>0.307735</td>\n",
       "      <td>0.000297</td>\n",
       "      <td>0.000297</td>\n",
       "      <td>0.0</td>\n",
       "      <td>0.000000</td>\n",
       "      <td>0.002973</td>\n",
       "      <td>0.002379</td>\n",
       "      <td>0.0</td>\n",
       "    </tr>\n",
       "    <tr>\n",
       "      <th>4</th>\n",
       "      <td>0.951455</td>\n",
       "      <td>0.004638</td>\n",
       "      <td>0.000595</td>\n",
       "      <td>0.000801</td>\n",
       "      <td>0.000297</td>\n",
       "      <td>0.000892</td>\n",
       "      <td>0.307736</td>\n",
       "      <td>0.000297</td>\n",
       "      <td>0.000000</td>\n",
       "      <td>0.0</td>\n",
       "      <td>0.000000</td>\n",
       "      <td>0.001189</td>\n",
       "      <td>0.002676</td>\n",
       "      <td>0.0</td>\n",
       "    </tr>\n",
       "    <tr>\n",
       "      <th>...</th>\n",
       "      <td>...</td>\n",
       "      <td>...</td>\n",
       "      <td>...</td>\n",
       "      <td>...</td>\n",
       "      <td>...</td>\n",
       "      <td>...</td>\n",
       "      <td>...</td>\n",
       "      <td>...</td>\n",
       "      <td>...</td>\n",
       "      <td>...</td>\n",
       "      <td>...</td>\n",
       "      <td>...</td>\n",
       "      <td>...</td>\n",
       "      <td>...</td>\n",
       "    </tr>\n",
       "    <tr>\n",
       "      <th>1238</th>\n",
       "      <td>0.942461</td>\n",
       "      <td>0.004123</td>\n",
       "      <td>0.000000</td>\n",
       "      <td>0.000793</td>\n",
       "      <td>0.000000</td>\n",
       "      <td>0.000000</td>\n",
       "      <td>0.334279</td>\n",
       "      <td>0.000884</td>\n",
       "      <td>0.000295</td>\n",
       "      <td>0.0</td>\n",
       "      <td>0.000000</td>\n",
       "      <td>0.000000</td>\n",
       "      <td>0.002356</td>\n",
       "      <td>0.0</td>\n",
       "    </tr>\n",
       "    <tr>\n",
       "      <th>1239</th>\n",
       "      <td>0.932916</td>\n",
       "      <td>0.004548</td>\n",
       "      <td>0.000000</td>\n",
       "      <td>0.000785</td>\n",
       "      <td>0.000000</td>\n",
       "      <td>0.000000</td>\n",
       "      <td>0.360047</td>\n",
       "      <td>0.000583</td>\n",
       "      <td>0.000292</td>\n",
       "      <td>0.0</td>\n",
       "      <td>0.000292</td>\n",
       "      <td>0.002915</td>\n",
       "      <td>0.002041</td>\n",
       "      <td>0.0</td>\n",
       "    </tr>\n",
       "    <tr>\n",
       "      <th>1240</th>\n",
       "      <td>0.501433</td>\n",
       "      <td>0.002934</td>\n",
       "      <td>0.000000</td>\n",
       "      <td>0.000506</td>\n",
       "      <td>0.000000</td>\n",
       "      <td>0.000188</td>\n",
       "      <td>0.865189</td>\n",
       "      <td>0.000376</td>\n",
       "      <td>0.000000</td>\n",
       "      <td>0.0</td>\n",
       "      <td>0.000000</td>\n",
       "      <td>0.001129</td>\n",
       "      <td>0.001693</td>\n",
       "      <td>0.0</td>\n",
       "    </tr>\n",
       "    <tr>\n",
       "      <th>1241</th>\n",
       "      <td>0.932918</td>\n",
       "      <td>0.004548</td>\n",
       "      <td>0.000000</td>\n",
       "      <td>0.000785</td>\n",
       "      <td>0.000000</td>\n",
       "      <td>0.000000</td>\n",
       "      <td>0.360048</td>\n",
       "      <td>0.000583</td>\n",
       "      <td>0.000292</td>\n",
       "      <td>0.0</td>\n",
       "      <td>0.000292</td>\n",
       "      <td>0.000583</td>\n",
       "      <td>0.002624</td>\n",
       "      <td>0.0</td>\n",
       "    </tr>\n",
       "    <tr>\n",
       "      <th>1242</th>\n",
       "      <td>0.932913</td>\n",
       "      <td>0.004548</td>\n",
       "      <td>0.000000</td>\n",
       "      <td>0.000785</td>\n",
       "      <td>0.000000</td>\n",
       "      <td>0.000000</td>\n",
       "      <td>0.360046</td>\n",
       "      <td>0.000583</td>\n",
       "      <td>0.000292</td>\n",
       "      <td>0.0</td>\n",
       "      <td>0.000292</td>\n",
       "      <td>0.003498</td>\n",
       "      <td>0.002624</td>\n",
       "      <td>0.0</td>\n",
       "    </tr>\n",
       "  </tbody>\n",
       "</table>\n",
       "<p>1243 rows × 14 columns</p>\n",
       "</div>"
      ],
      "text/plain": [
       "            0         1         2         3         4         5         6   \\\n",
       "0     0.729293  0.006841  0.000373  0.000000  0.000410  0.000000  0.684140   \n",
       "1     0.729293  0.006841  0.000373  0.000000  0.000410  0.000000  0.684140   \n",
       "2     0.729293  0.006841  0.000373  0.000000  0.000410  0.000000  0.684140   \n",
       "3     0.951452  0.004638  0.000892  0.000801  0.000297  0.000892  0.307735   \n",
       "4     0.951455  0.004638  0.000595  0.000801  0.000297  0.000892  0.307736   \n",
       "...        ...       ...       ...       ...       ...       ...       ...   \n",
       "1238  0.942461  0.004123  0.000000  0.000793  0.000000  0.000000  0.334279   \n",
       "1239  0.932916  0.004548  0.000000  0.000785  0.000000  0.000000  0.360047   \n",
       "1240  0.501433  0.002934  0.000000  0.000506  0.000000  0.000188  0.865189   \n",
       "1241  0.932918  0.004548  0.000000  0.000785  0.000000  0.000000  0.360048   \n",
       "1242  0.932913  0.004548  0.000000  0.000785  0.000000  0.000000  0.360046   \n",
       "\n",
       "            7         8    9         10        11        12   13  \n",
       "0     0.000000  0.000368  0.0  0.000151  0.000000  0.006157  0.0  \n",
       "1     0.000000  0.000368  0.0  0.000151  0.000000  0.006157  0.0  \n",
       "2     0.000000  0.000368  0.0  0.000151  0.000000  0.006157  0.0  \n",
       "3     0.000297  0.000297  0.0  0.000000  0.002973  0.002379  0.0  \n",
       "4     0.000297  0.000000  0.0  0.000000  0.001189  0.002676  0.0  \n",
       "...        ...       ...  ...       ...       ...       ...  ...  \n",
       "1238  0.000884  0.000295  0.0  0.000000  0.000000  0.002356  0.0  \n",
       "1239  0.000583  0.000292  0.0  0.000292  0.002915  0.002041  0.0  \n",
       "1240  0.000376  0.000000  0.0  0.000000  0.001129  0.001693  0.0  \n",
       "1241  0.000583  0.000292  0.0  0.000292  0.000583  0.002624  0.0  \n",
       "1242  0.000583  0.000292  0.0  0.000292  0.003498  0.002624  0.0  \n",
       "\n",
       "[1243 rows x 14 columns]"
      ]
     },
     "execution_count": 75,
     "metadata": {},
     "output_type": "execute_result"
    }
   ],
   "source": [
    "pd.DataFrame(normalizeddata)"
   ]
  },
  {
   "cell_type": "code",
   "execution_count": 84,
   "id": "b7be7dbf-6b05-431a-ab87-7d0cc426a91e",
   "metadata": {},
   "outputs": [],
   "source": [
    "import pickle"
   ]
  },
  {
   "cell_type": "code",
   "execution_count": 85,
   "id": "9ae2e845-453f-42cf-a1ef-a757d0a30c31",
   "metadata": {},
   "outputs": [],
   "source": [
    "with open('cleaned_df.pkl', 'wb') as f:\n",
    "    pickle.dump(df, f)"
   ]
  },
  {
   "cell_type": "code",
   "execution_count": 76,
   "id": "aae28e94-88d8-4c42-a83b-90fcc66bc88e",
   "metadata": {},
   "outputs": [
    {
     "data": {
      "text/plain": [
       "Index(['Bellek Hızı', 'Ekran Boyutu', 'Ekran Kartı Bellek Tipi',\n",
       "       'Ekran Kartı Hafızası', 'Ekran Kartı Tipi', 'Ekran Panel Tipi',\n",
       "       'İşlemci', 'İşletim Sistemi', 'Kart Okuyucu', 'Aydınlatma',\n",
       "       'Parmak İzi Okuyucu', 'Ram (Sistem Belleği)', 'SSD Kapasitesi',\n",
       "       'Ürün Modeli', 'Fiyat'],\n",
       "      dtype='object')"
      ]
     },
     "execution_count": 76,
     "metadata": {},
     "output_type": "execute_result"
    }
   ],
   "source": [
    "df.columns"
   ]
  },
  {
   "cell_type": "code",
   "execution_count": 78,
   "id": "440e121c-48fa-42b7-b048-41876923993e",
   "metadata": {},
   "outputs": [],
   "source": [
    "x = pd.DataFrame(normalizeddata)\n",
    "y = df[['Fiyat']]"
   ]
  },
  {
   "cell_type": "raw",
   "id": "ff98ea7d-39a1-4b6e-9f1d-20f7e0c400ec",
   "metadata": {},
   "source": [
    "x=pd.get_dummies(x,drop_first=True)"
   ]
  },
  {
   "cell_type": "code",
   "execution_count": 79,
   "id": "75521c37-ce76-4afe-ba8d-c362700331ac",
   "metadata": {},
   "outputs": [],
   "source": [
    "import pandas as pd\n",
    "import numpy as np\n",
    "import matplotlib.pyplot as plt\n",
    "import seaborn as sns\n",
    "import warnings\n",
    "warnings.filterwarnings(\"ignore\")\n",
    "pd.set_option(\"display.max_columns\",100)\n",
    "\n",
    "from sklearn.linear_model import LinearRegression,SGDRegressor,Ridge,Lasso,ElasticNet\n",
    "from sklearn.neighbors import KNeighborsRegressor, RadiusNeighborsRegressor\n",
    "from sklearn.ensemble import GradientBoostingRegressor,AdaBoostRegressor\n",
    "from sklearn.tree import DecisionTreeRegressor, plot_tree, ExtraTreeRegressor\n",
    "#pip install xgboost\n",
    "from xgboost import XGBRegressor\n",
    "from sklearn.svm import SVR\n",
    "\n",
    "from sklearn.neural_network import MLPRegressor\n",
    "\n",
    "from sklearn.model_selection import train_test_split\n",
    "from sklearn.metrics import mean_squared_error,r2_score,mean_absolute_error\n",
    "\n",
    "from sklearn.preprocessing import StandardScaler\n",
    "\n",
    "\n",
    "def algo_test(x,y):\n",
    "        #Bütün modelleri tanımlıyorum\n",
    "        L=LinearRegression()\n",
    "        R=Ridge()\n",
    "        Lass=Lasso()\n",
    "        E=ElasticNet()\n",
    "        sgd=SGDRegressor()\n",
    "        ETR=ExtraTreeRegressor()\n",
    "        GBR=GradientBoostingRegressor()\n",
    "        kn=KNeighborsRegressor()\n",
    "        rkn=RadiusNeighborsRegressor(radius=1.0)\n",
    "        ada=AdaBoostRegressor()\n",
    "        dt=DecisionTreeRegressor()\n",
    "        xgb=XGBRegressor()\n",
    "        svr=SVR()\n",
    "        mlp_regressor = MLPRegressor()\n",
    "\n",
    "       \n",
    "        \n",
    "        algos=[L,R,Lass,E,sgd,ETR,GBR,ada,kn,dt,xgb,svr,mlp_regressor]\n",
    "        algo_names=['Linear','Ridge','Lasso','ElasticNet','SGD','Extra Tree','Gradient Boosting',\n",
    "                    'KNeighborsRegressor','AdaBoost','Decision Tree','XGBRegressor','SVR','mlp_regressor']\n",
    "        \n",
    "        x_train, x_test, y_train, y_test=train_test_split(x,y,test_size=.20,random_state=42)\n",
    "        \n",
    "        r_squared= []\n",
    "        rmse= []\n",
    "        mae= []\n",
    "        \n",
    "        #Hata ve doğruluk oranlarını bir tablo haline getirmek için bir dataframe oluşturuyorum\n",
    "        result=pd.DataFrame(columns=['R_Squared','RMSE','MAE'],index=algo_names)\n",
    "        \n",
    "        \n",
    "        for algo in algos:\n",
    "            p=algo.fit(x_train,y_train).predict(x_test)\n",
    "            r_squared.append(r2_score(y_test,p))\n",
    "            rmse.append(mean_squared_error(y_test,p)**.5)\n",
    "            mae.append(mean_absolute_error(y_test,p))\n",
    "        \n",
    "            \n",
    "\n",
    "        #result adlı tabloya doğruluk ve hata oranlarımı yerleştiriyorum\n",
    "        result.R_Squared=r_squared\n",
    "        result.RMSE=rmse\n",
    "        result.MAE=mae\n",
    "        \n",
    "       #oluşturduğum result tablosunu doğruluk oranına (r2_score) göre sıralayıp dönüyor\n",
    "        rtable=result.sort_values('R_Squared',ascending=False)\n",
    "        return rtable"
   ]
  },
  {
   "cell_type": "code",
   "execution_count": 80,
   "id": "83dce78f-fb40-4127-ba97-c1ed98a1afa4",
   "metadata": {},
   "outputs": [
    {
     "data": {
      "text/html": [
       "<div>\n",
       "<style scoped>\n",
       "    .dataframe tbody tr th:only-of-type {\n",
       "        vertical-align: middle;\n",
       "    }\n",
       "\n",
       "    .dataframe tbody tr th {\n",
       "        vertical-align: top;\n",
       "    }\n",
       "\n",
       "    .dataframe thead th {\n",
       "        text-align: right;\n",
       "    }\n",
       "</style>\n",
       "<table border=\"1\" class=\"dataframe\">\n",
       "  <thead>\n",
       "    <tr style=\"text-align: right;\">\n",
       "      <th></th>\n",
       "      <th>R_Squared</th>\n",
       "      <th>RMSE</th>\n",
       "      <th>MAE</th>\n",
       "    </tr>\n",
       "  </thead>\n",
       "  <tbody>\n",
       "    <tr>\n",
       "      <th>XGBRegressor</th>\n",
       "      <td>0.554823</td>\n",
       "      <td>0.712940</td>\n",
       "      <td>0.370461</td>\n",
       "    </tr>\n",
       "    <tr>\n",
       "      <th>Gradient Boosting</th>\n",
       "      <td>0.500490</td>\n",
       "      <td>0.755194</td>\n",
       "      <td>0.507972</td>\n",
       "    </tr>\n",
       "    <tr>\n",
       "      <th>AdaBoost</th>\n",
       "      <td>0.357574</td>\n",
       "      <td>0.856443</td>\n",
       "      <td>0.501205</td>\n",
       "    </tr>\n",
       "    <tr>\n",
       "      <th>Extra Tree</th>\n",
       "      <td>0.331685</td>\n",
       "      <td>0.873529</td>\n",
       "      <td>0.369478</td>\n",
       "    </tr>\n",
       "    <tr>\n",
       "      <th>Decision Tree</th>\n",
       "      <td>0.226162</td>\n",
       "      <td>0.939965</td>\n",
       "      <td>0.425703</td>\n",
       "    </tr>\n",
       "    <tr>\n",
       "      <th>KNeighborsRegressor</th>\n",
       "      <td>0.224120</td>\n",
       "      <td>0.941204</td>\n",
       "      <td>0.711916</td>\n",
       "    </tr>\n",
       "    <tr>\n",
       "      <th>Linear</th>\n",
       "      <td>0.213449</td>\n",
       "      <td>0.947654</td>\n",
       "      <td>0.670546</td>\n",
       "    </tr>\n",
       "    <tr>\n",
       "      <th>mlp_regressor</th>\n",
       "      <td>0.043537</td>\n",
       "      <td>1.045010</td>\n",
       "      <td>0.756081</td>\n",
       "    </tr>\n",
       "    <tr>\n",
       "      <th>Ridge</th>\n",
       "      <td>0.028775</td>\n",
       "      <td>1.053044</td>\n",
       "      <td>0.766072</td>\n",
       "    </tr>\n",
       "    <tr>\n",
       "      <th>SVR</th>\n",
       "      <td>0.015780</td>\n",
       "      <td>1.060066</td>\n",
       "      <td>0.687512</td>\n",
       "    </tr>\n",
       "    <tr>\n",
       "      <th>SGD</th>\n",
       "      <td>0.008998</td>\n",
       "      <td>1.063711</td>\n",
       "      <td>0.792149</td>\n",
       "    </tr>\n",
       "    <tr>\n",
       "      <th>Lasso</th>\n",
       "      <td>-0.000632</td>\n",
       "      <td>1.068867</td>\n",
       "      <td>0.815778</td>\n",
       "    </tr>\n",
       "    <tr>\n",
       "      <th>ElasticNet</th>\n",
       "      <td>-0.000632</td>\n",
       "      <td>1.068867</td>\n",
       "      <td>0.815778</td>\n",
       "    </tr>\n",
       "  </tbody>\n",
       "</table>\n",
       "</div>"
      ],
      "text/plain": [
       "                     R_Squared      RMSE       MAE\n",
       "XGBRegressor          0.554823  0.712940  0.370461\n",
       "Gradient Boosting     0.500490  0.755194  0.507972\n",
       "AdaBoost              0.357574  0.856443  0.501205\n",
       "Extra Tree            0.331685  0.873529  0.369478\n",
       "Decision Tree         0.226162  0.939965  0.425703\n",
       "KNeighborsRegressor   0.224120  0.941204  0.711916\n",
       "Linear                0.213449  0.947654  0.670546\n",
       "mlp_regressor         0.043537  1.045010  0.756081\n",
       "Ridge                 0.028775  1.053044  0.766072\n",
       "SVR                   0.015780  1.060066  0.687512\n",
       "SGD                   0.008998  1.063711  0.792149\n",
       "Lasso                -0.000632  1.068867  0.815778\n",
       "ElasticNet           -0.000632  1.068867  0.815778"
      ]
     },
     "execution_count": 80,
     "metadata": {},
     "output_type": "execute_result"
    }
   ],
   "source": [
    "algo_test(x,y)"
   ]
  },
  {
   "cell_type": "code",
   "execution_count": 82,
   "id": "be1eb4ef-8497-4bfc-a8d1-a08d8d0f08f1",
   "metadata": {},
   "outputs": [],
   "source": [
    "import pickle\n",
    "# Pickle dosyasına kaydetme\n",
    "GBR = GradientBoostingRegressor()\n",
    "model = GBR.fit(x,y)\n",
    "pickle.dump(model, open('fiyat tahmin.pkl', 'wb'))"
   ]
  },
  {
   "cell_type": "code",
   "execution_count": 83,
   "id": "632bf09f-90a5-4c77-af5f-28ab8eae09cf",
   "metadata": {},
   "outputs": [
    {
     "name": "stdout",
     "output_type": "stream",
     "text": [
      "R-squared: -0.2560868947764605\n",
      "Mean Squared Error (MSE): 1.6175674826455253\n",
      "Root Mean Squared Error (RMSE): 1.2718362640865077\n",
      "Mean Absolute Error (MAE): 1.0226309466403056\n"
     ]
    }
   ],
   "source": [
    " # MODELİ TEST\n",
    "df2 = df\n",
    "\n",
    "# Define X_test and y_test\n",
    "x_test = df2.drop(['Fiyat'], axis=1)\n",
    "y_test = df2['Fiyat']\n",
    "\n",
    "# Read the pickle file\n",
    "model = pickle.load(open('fiyat tahmin.pkl', 'rb'))\n",
    "\n",
    "# Use the model to make predictions\n",
    "predictions = model.predict(x_test)\n",
    "\n",
    "# Calculate evaluation metrics\n",
    "r2 = r2_score(y_test, predictions)\n",
    "mse = mean_squared_error(y_test, predictions)\n",
    "rmse = np.sqrt(mse)\n",
    "mae = mean_absolute_error(y_test, predictions)\n",
    "\n",
    "# Print the results\n",
    "print(\"R-squared:\", r2)\n",
    "print(\"Mean Squared Error (MSE):\", mse)\n",
    "print(\"Root Mean Squared Error (RMSE):\", rmse)\n",
    "print(\"Mean Absolute Error (MAE):\", mae)"
   ]
  },
  {
   "cell_type": "raw",
   "id": "7f96e813-05a7-4695-aff3-8bf1472f798e",
   "metadata": {},
   "source": [
    "Model çok başarılı olmadı, deep learningle başarıyı arttırabiliriz.\n"
   ]
  },
  {
   "cell_type": "code",
   "execution_count": 86,
   "id": "8bd1aedc-718d-4917-8579-e9f1a30d5ed6",
   "metadata": {
    "scrolled": true
   },
   "outputs": [],
   "source": [
    "#pip install TensorFlow"
   ]
  },
  {
   "cell_type": "code",
   "execution_count": 87,
   "id": "11cedeb6-c41d-4713-8c66-122e2011b05c",
   "metadata": {},
   "outputs": [],
   "source": [
    "from keras.models import Sequential\n",
    "from keras.layers import Dense\n",
    "import pandas as pd"
   ]
  },
  {
   "cell_type": "code",
   "execution_count": 88,
   "id": "b4905679-a442-4a8c-b64f-7c6efaa4e855",
   "metadata": {},
   "outputs": [],
   "source": [
    "df3=pd.read_pickle('cleaned_df.pkl')"
   ]
  },
  {
   "cell_type": "code",
   "execution_count": 89,
   "id": "55eb2296-dc7a-42c1-9135-f02ec3a93d69",
   "metadata": {},
   "outputs": [],
   "source": [
    "x=df3.drop('Fiyat',axis=1) \n",
    "y=df3[['Fiyat']]"
   ]
  },
  {
   "cell_type": "code",
   "execution_count": 90,
   "id": "8a53a507-340d-4eef-b458-7eaf2c5fc167",
   "metadata": {},
   "outputs": [],
   "source": [
    "x_train,x_test,y_train,y_test=train_test_split(x,y,test_size=0.20,random_state=42)"
   ]
  },
  {
   "cell_type": "code",
   "execution_count": 91,
   "id": "3ce4d54f-927b-4ff3-aae7-8c469c5bb246",
   "metadata": {},
   "outputs": [],
   "source": [
    "model = Sequential()\n",
    "model.add(Dense(80, activation='relu'))\n",
    "model.add(Dense(80, activation='relu'))\n",
    "model.add(Dense(64, activation='relu'))\n",
    "model.add(Dense(30, activation='relu'))\n",
    "model.add(Dense(1)) # 5 çıktı nöronu\n",
    "model.compile(loss='mse', optimizer='adam')"
   ]
  },
  {
   "cell_type": "code",
   "execution_count": 92,
   "id": "b31c9a93-4afa-42e0-9e87-6745f2b67518",
   "metadata": {
    "scrolled": true
   },
   "outputs": [
    {
     "name": "stdout",
     "output_type": "stream",
     "text": [
      "Epoch 1/100\n",
      "\u001b[1m32/32\u001b[0m \u001b[32m━━━━━━━━━━━━━━━━━━━━\u001b[0m\u001b[37m\u001b[0m \u001b[1m1s\u001b[0m 6ms/step - loss: 2406.3135 - val_loss: 40.9110\n",
      "Epoch 2/100\n",
      "\u001b[1m32/32\u001b[0m \u001b[32m━━━━━━━━━━━━━━━━━━━━\u001b[0m\u001b[37m\u001b[0m \u001b[1m0s\u001b[0m 2ms/step - loss: 33.3131 - val_loss: 28.1651\n",
      "Epoch 3/100\n",
      "\u001b[1m32/32\u001b[0m \u001b[32m━━━━━━━━━━━━━━━━━━━━\u001b[0m\u001b[37m\u001b[0m \u001b[1m0s\u001b[0m 3ms/step - loss: 16.4198 - val_loss: 2.7637\n",
      "Epoch 4/100\n",
      "\u001b[1m32/32\u001b[0m \u001b[32m━━━━━━━━━━━━━━━━━━━━\u001b[0m\u001b[37m\u001b[0m \u001b[1m0s\u001b[0m 2ms/step - loss: 3.5814 - val_loss: 3.0516\n",
      "Epoch 5/100\n",
      "\u001b[1m32/32\u001b[0m \u001b[32m━━━━━━━━━━━━━━━━━━━━\u001b[0m\u001b[37m\u001b[0m \u001b[1m0s\u001b[0m 2ms/step - loss: 3.0799 - val_loss: 3.2486\n",
      "Epoch 6/100\n",
      "\u001b[1m32/32\u001b[0m \u001b[32m━━━━━━━━━━━━━━━━━━━━\u001b[0m\u001b[37m\u001b[0m \u001b[1m0s\u001b[0m 2ms/step - loss: 3.0230 - val_loss: 3.9162\n",
      "Epoch 7/100\n",
      "\u001b[1m32/32\u001b[0m \u001b[32m━━━━━━━━━━━━━━━━━━━━\u001b[0m\u001b[37m\u001b[0m \u001b[1m0s\u001b[0m 2ms/step - loss: 2.5212 - val_loss: 2.2406\n",
      "Epoch 8/100\n",
      "\u001b[1m32/32\u001b[0m \u001b[32m━━━━━━━━━━━━━━━━━━━━\u001b[0m\u001b[37m\u001b[0m \u001b[1m0s\u001b[0m 3ms/step - loss: 2.5983 - val_loss: 2.1286\n",
      "Epoch 9/100\n",
      "\u001b[1m32/32\u001b[0m \u001b[32m━━━━━━━━━━━━━━━━━━━━\u001b[0m\u001b[37m\u001b[0m \u001b[1m0s\u001b[0m 3ms/step - loss: 2.3357 - val_loss: 4.4091\n",
      "Epoch 10/100\n",
      "\u001b[1m32/32\u001b[0m \u001b[32m━━━━━━━━━━━━━━━━━━━━\u001b[0m\u001b[37m\u001b[0m \u001b[1m0s\u001b[0m 3ms/step - loss: 2.1031 - val_loss: 2.6433\n",
      "Epoch 11/100\n",
      "\u001b[1m32/32\u001b[0m \u001b[32m━━━━━━━━━━━━━━━━━━━━\u001b[0m\u001b[37m\u001b[0m \u001b[1m0s\u001b[0m 2ms/step - loss: 8.1627 - val_loss: 30.8021\n",
      "Epoch 12/100\n",
      "\u001b[1m32/32\u001b[0m \u001b[32m━━━━━━━━━━━━━━━━━━━━\u001b[0m\u001b[37m\u001b[0m \u001b[1m0s\u001b[0m 3ms/step - loss: 23.7076 - val_loss: 60.6900\n",
      "Epoch 13/100\n",
      "\u001b[1m32/32\u001b[0m \u001b[32m━━━━━━━━━━━━━━━━━━━━\u001b[0m\u001b[37m\u001b[0m \u001b[1m0s\u001b[0m 2ms/step - loss: 67.4829 - val_loss: 681.2877\n",
      "Epoch 14/100\n",
      "\u001b[1m32/32\u001b[0m \u001b[32m━━━━━━━━━━━━━━━━━━━━\u001b[0m\u001b[37m\u001b[0m \u001b[1m0s\u001b[0m 3ms/step - loss: 479.8815 - val_loss: 19.3407\n",
      "Epoch 15/100\n",
      "\u001b[1m32/32\u001b[0m \u001b[32m━━━━━━━━━━━━━━━━━━━━\u001b[0m\u001b[37m\u001b[0m \u001b[1m0s\u001b[0m 2ms/step - loss: 72.6580 - val_loss: 78.6807\n",
      "Epoch 16/100\n",
      "\u001b[1m32/32\u001b[0m \u001b[32m━━━━━━━━━━━━━━━━━━━━\u001b[0m\u001b[37m\u001b[0m \u001b[1m0s\u001b[0m 2ms/step - loss: 45.4397 - val_loss: 9.0678\n",
      "Epoch 17/100\n",
      "\u001b[1m32/32\u001b[0m \u001b[32m━━━━━━━━━━━━━━━━━━━━\u001b[0m\u001b[37m\u001b[0m \u001b[1m0s\u001b[0m 2ms/step - loss: 6.6321 - val_loss: 2.1381\n",
      "Epoch 18/100\n",
      "\u001b[1m32/32\u001b[0m \u001b[32m━━━━━━━━━━━━━━━━━━━━\u001b[0m\u001b[37m\u001b[0m \u001b[1m0s\u001b[0m 2ms/step - loss: 7.4308 - val_loss: 3.6571\n",
      "Epoch 19/100\n",
      "\u001b[1m32/32\u001b[0m \u001b[32m━━━━━━━━━━━━━━━━━━━━\u001b[0m\u001b[37m\u001b[0m \u001b[1m0s\u001b[0m 3ms/step - loss: 3.6472 - val_loss: 4.4294\n",
      "Epoch 20/100\n",
      "\u001b[1m32/32\u001b[0m \u001b[32m━━━━━━━━━━━━━━━━━━━━\u001b[0m\u001b[37m\u001b[0m \u001b[1m0s\u001b[0m 2ms/step - loss: 7.3351 - val_loss: 1.6013\n",
      "Epoch 21/100\n",
      "\u001b[1m32/32\u001b[0m \u001b[32m━━━━━━━━━━━━━━━━━━━━\u001b[0m\u001b[37m\u001b[0m \u001b[1m0s\u001b[0m 2ms/step - loss: 2.0069 - val_loss: 1.7119\n",
      "Epoch 22/100\n",
      "\u001b[1m32/32\u001b[0m \u001b[32m━━━━━━━━━━━━━━━━━━━━\u001b[0m\u001b[37m\u001b[0m \u001b[1m0s\u001b[0m 4ms/step - loss: 2.3837 - val_loss: 1.3895\n",
      "Epoch 23/100\n",
      "\u001b[1m32/32\u001b[0m \u001b[32m━━━━━━━━━━━━━━━━━━━━\u001b[0m\u001b[37m\u001b[0m \u001b[1m0s\u001b[0m 3ms/step - loss: 1.8710 - val_loss: 8.1194\n",
      "Epoch 24/100\n",
      "\u001b[1m32/32\u001b[0m \u001b[32m━━━━━━━━━━━━━━━━━━━━\u001b[0m\u001b[37m\u001b[0m \u001b[1m0s\u001b[0m 2ms/step - loss: 3.3418 - val_loss: 6.3194\n",
      "Epoch 25/100\n",
      "\u001b[1m32/32\u001b[0m \u001b[32m━━━━━━━━━━━━━━━━━━━━\u001b[0m\u001b[37m\u001b[0m \u001b[1m0s\u001b[0m 2ms/step - loss: 4.6808 - val_loss: 2.0613\n",
      "Epoch 26/100\n",
      "\u001b[1m32/32\u001b[0m \u001b[32m━━━━━━━━━━━━━━━━━━━━\u001b[0m\u001b[37m\u001b[0m \u001b[1m0s\u001b[0m 3ms/step - loss: 4.2850 - val_loss: 11.5513\n",
      "Epoch 27/100\n",
      "\u001b[1m32/32\u001b[0m \u001b[32m━━━━━━━━━━━━━━━━━━━━\u001b[0m\u001b[37m\u001b[0m \u001b[1m0s\u001b[0m 2ms/step - loss: 4.7586 - val_loss: 4.4381\n",
      "Epoch 28/100\n",
      "\u001b[1m32/32\u001b[0m \u001b[32m━━━━━━━━━━━━━━━━━━━━\u001b[0m\u001b[37m\u001b[0m \u001b[1m0s\u001b[0m 3ms/step - loss: 3.7387 - val_loss: 5.5766\n",
      "Epoch 29/100\n",
      "\u001b[1m32/32\u001b[0m \u001b[32m━━━━━━━━━━━━━━━━━━━━\u001b[0m\u001b[37m\u001b[0m \u001b[1m0s\u001b[0m 3ms/step - loss: 3.8279 - val_loss: 19.8106\n",
      "Epoch 30/100\n",
      "\u001b[1m32/32\u001b[0m \u001b[32m━━━━━━━━━━━━━━━━━━━━\u001b[0m\u001b[37m\u001b[0m \u001b[1m0s\u001b[0m 3ms/step - loss: 30.1464 - val_loss: 9.4373\n",
      "Epoch 31/100\n",
      "\u001b[1m32/32\u001b[0m \u001b[32m━━━━━━━━━━━━━━━━━━━━\u001b[0m\u001b[37m\u001b[0m \u001b[1m0s\u001b[0m 3ms/step - loss: 7.4203 - val_loss: 4.7751\n",
      "Epoch 32/100\n",
      "\u001b[1m32/32\u001b[0m \u001b[32m━━━━━━━━━━━━━━━━━━━━\u001b[0m\u001b[37m\u001b[0m \u001b[1m0s\u001b[0m 3ms/step - loss: 3.7572 - val_loss: 1.5303\n",
      "Epoch 33/100\n",
      "\u001b[1m32/32\u001b[0m \u001b[32m━━━━━━━━━━━━━━━━━━━━\u001b[0m\u001b[37m\u001b[0m \u001b[1m0s\u001b[0m 3ms/step - loss: 3.8596 - val_loss: 26.0974\n",
      "Epoch 34/100\n",
      "\u001b[1m32/32\u001b[0m \u001b[32m━━━━━━━━━━━━━━━━━━━━\u001b[0m\u001b[37m\u001b[0m \u001b[1m0s\u001b[0m 2ms/step - loss: 13.0366 - val_loss: 20.3672\n",
      "Epoch 35/100\n",
      "\u001b[1m32/32\u001b[0m \u001b[32m━━━━━━━━━━━━━━━━━━━━\u001b[0m\u001b[37m\u001b[0m \u001b[1m0s\u001b[0m 2ms/step - loss: 9.8579 - val_loss: 11.5743\n",
      "Epoch 36/100\n",
      "\u001b[1m32/32\u001b[0m \u001b[32m━━━━━━━━━━━━━━━━━━━━\u001b[0m\u001b[37m\u001b[0m \u001b[1m0s\u001b[0m 3ms/step - loss: 5.5014 - val_loss: 3.3340\n",
      "Epoch 37/100\n",
      "\u001b[1m32/32\u001b[0m \u001b[32m━━━━━━━━━━━━━━━━━━━━\u001b[0m\u001b[37m\u001b[0m \u001b[1m0s\u001b[0m 3ms/step - loss: 6.0256 - val_loss: 25.3786\n",
      "Epoch 38/100\n",
      "\u001b[1m32/32\u001b[0m \u001b[32m━━━━━━━━━━━━━━━━━━━━\u001b[0m\u001b[37m\u001b[0m \u001b[1m0s\u001b[0m 3ms/step - loss: 11.1938 - val_loss: 10.8203\n",
      "Epoch 39/100\n",
      "\u001b[1m32/32\u001b[0m \u001b[32m━━━━━━━━━━━━━━━━━━━━\u001b[0m\u001b[37m\u001b[0m \u001b[1m0s\u001b[0m 2ms/step - loss: 12.6001 - val_loss: 44.0197\n",
      "Epoch 40/100\n",
      "\u001b[1m32/32\u001b[0m \u001b[32m━━━━━━━━━━━━━━━━━━━━\u001b[0m\u001b[37m\u001b[0m \u001b[1m0s\u001b[0m 3ms/step - loss: 24.1609 - val_loss: 17.9690\n",
      "Epoch 41/100\n",
      "\u001b[1m32/32\u001b[0m \u001b[32m━━━━━━━━━━━━━━━━━━━━\u001b[0m\u001b[37m\u001b[0m \u001b[1m0s\u001b[0m 3ms/step - loss: 10.7792 - val_loss: 71.7883\n",
      "Epoch 42/100\n",
      "\u001b[1m32/32\u001b[0m \u001b[32m━━━━━━━━━━━━━━━━━━━━\u001b[0m\u001b[37m\u001b[0m \u001b[1m0s\u001b[0m 3ms/step - loss: 39.3666 - val_loss: 4.7354\n",
      "Epoch 43/100\n",
      "\u001b[1m32/32\u001b[0m \u001b[32m━━━━━━━━━━━━━━━━━━━━\u001b[0m\u001b[37m\u001b[0m \u001b[1m0s\u001b[0m 2ms/step - loss: 5.0894 - val_loss: 1.3766\n",
      "Epoch 44/100\n",
      "\u001b[1m32/32\u001b[0m \u001b[32m━━━━━━━━━━━━━━━━━━━━\u001b[0m\u001b[37m\u001b[0m \u001b[1m0s\u001b[0m 2ms/step - loss: 2.3219 - val_loss: 13.5669\n",
      "Epoch 45/100\n",
      "\u001b[1m32/32\u001b[0m \u001b[32m━━━━━━━━━━━━━━━━━━━━\u001b[0m\u001b[37m\u001b[0m \u001b[1m0s\u001b[0m 3ms/step - loss: 9.1446 - val_loss: 27.6185\n",
      "Epoch 46/100\n",
      "\u001b[1m32/32\u001b[0m \u001b[32m━━━━━━━━━━━━━━━━━━━━\u001b[0m\u001b[37m\u001b[0m \u001b[1m0s\u001b[0m 3ms/step - loss: 26.1151 - val_loss: 6.3509\n",
      "Epoch 47/100\n",
      "\u001b[1m32/32\u001b[0m \u001b[32m━━━━━━━━━━━━━━━━━━━━\u001b[0m\u001b[37m\u001b[0m \u001b[1m0s\u001b[0m 2ms/step - loss: 6.1497 - val_loss: 4.2605\n",
      "Epoch 48/100\n",
      "\u001b[1m32/32\u001b[0m \u001b[32m━━━━━━━━━━━━━━━━━━━━\u001b[0m\u001b[37m\u001b[0m \u001b[1m0s\u001b[0m 3ms/step - loss: 3.6257 - val_loss: 3.0304\n",
      "Epoch 49/100\n",
      "\u001b[1m32/32\u001b[0m \u001b[32m━━━━━━━━━━━━━━━━━━━━\u001b[0m\u001b[37m\u001b[0m \u001b[1m0s\u001b[0m 3ms/step - loss: 2.1398 - val_loss: 8.5841\n",
      "Epoch 50/100\n",
      "\u001b[1m32/32\u001b[0m \u001b[32m━━━━━━━━━━━━━━━━━━━━\u001b[0m\u001b[37m\u001b[0m \u001b[1m0s\u001b[0m 3ms/step - loss: 6.4008 - val_loss: 4.7835\n",
      "Epoch 51/100\n",
      "\u001b[1m32/32\u001b[0m \u001b[32m━━━━━━━━━━━━━━━━━━━━\u001b[0m\u001b[37m\u001b[0m \u001b[1m0s\u001b[0m 2ms/step - loss: 4.3796 - val_loss: 3.1828\n",
      "Epoch 52/100\n",
      "\u001b[1m32/32\u001b[0m \u001b[32m━━━━━━━━━━━━━━━━━━━━\u001b[0m\u001b[37m\u001b[0m \u001b[1m0s\u001b[0m 2ms/step - loss: 3.1201 - val_loss: 6.3683\n",
      "Epoch 53/100\n",
      "\u001b[1m32/32\u001b[0m \u001b[32m━━━━━━━━━━━━━━━━━━━━\u001b[0m\u001b[37m\u001b[0m \u001b[1m0s\u001b[0m 3ms/step - loss: 7.8585 - val_loss: 163.3289\n",
      "Epoch 54/100\n",
      "\u001b[1m32/32\u001b[0m \u001b[32m━━━━━━━━━━━━━━━━━━━━\u001b[0m\u001b[37m\u001b[0m \u001b[1m0s\u001b[0m 3ms/step - loss: 264.7665 - val_loss: 43.2155\n",
      "Epoch 55/100\n",
      "\u001b[1m32/32\u001b[0m \u001b[32m━━━━━━━━━━━━━━━━━━━━\u001b[0m\u001b[37m\u001b[0m \u001b[1m0s\u001b[0m 2ms/step - loss: 32.5947 - val_loss: 20.9961\n",
      "Epoch 56/100\n",
      "\u001b[1m32/32\u001b[0m \u001b[32m━━━━━━━━━━━━━━━━━━━━\u001b[0m\u001b[37m\u001b[0m \u001b[1m0s\u001b[0m 2ms/step - loss: 12.7756 - val_loss: 20.4105\n",
      "Epoch 57/100\n",
      "\u001b[1m32/32\u001b[0m \u001b[32m━━━━━━━━━━━━━━━━━━━━\u001b[0m\u001b[37m\u001b[0m \u001b[1m0s\u001b[0m 2ms/step - loss: 10.5409 - val_loss: 1.4798\n",
      "Epoch 58/100\n",
      "\u001b[1m32/32\u001b[0m \u001b[32m━━━━━━━━━━━━━━━━━━━━\u001b[0m\u001b[37m\u001b[0m \u001b[1m0s\u001b[0m 3ms/step - loss: 1.6619 - val_loss: 2.6231\n",
      "Epoch 59/100\n",
      "\u001b[1m32/32\u001b[0m \u001b[32m━━━━━━━━━━━━━━━━━━━━\u001b[0m\u001b[37m\u001b[0m \u001b[1m0s\u001b[0m 3ms/step - loss: 1.7597 - val_loss: 2.0294\n",
      "Epoch 60/100\n",
      "\u001b[1m32/32\u001b[0m \u001b[32m━━━━━━━━━━━━━━━━━━━━\u001b[0m\u001b[37m\u001b[0m \u001b[1m0s\u001b[0m 3ms/step - loss: 1.7185 - val_loss: 1.4409\n",
      "Epoch 61/100\n",
      "\u001b[1m32/32\u001b[0m \u001b[32m━━━━━━━━━━━━━━━━━━━━\u001b[0m\u001b[37m\u001b[0m \u001b[1m0s\u001b[0m 2ms/step - loss: 2.4103 - val_loss: 10.0913\n",
      "Epoch 62/100\n",
      "\u001b[1m32/32\u001b[0m \u001b[32m━━━━━━━━━━━━━━━━━━━━\u001b[0m\u001b[37m\u001b[0m \u001b[1m0s\u001b[0m 2ms/step - loss: 4.9003 - val_loss: 1.4501\n",
      "Epoch 63/100\n",
      "\u001b[1m32/32\u001b[0m \u001b[32m━━━━━━━━━━━━━━━━━━━━\u001b[0m\u001b[37m\u001b[0m \u001b[1m0s\u001b[0m 3ms/step - loss: 2.1364 - val_loss: 10.5148\n",
      "Epoch 64/100\n",
      "\u001b[1m32/32\u001b[0m \u001b[32m━━━━━━━━━━━━━━━━━━━━\u001b[0m\u001b[37m\u001b[0m \u001b[1m0s\u001b[0m 2ms/step - loss: 13.0727 - val_loss: 5.7556\n",
      "Epoch 65/100\n",
      "\u001b[1m32/32\u001b[0m \u001b[32m━━━━━━━━━━━━━━━━━━━━\u001b[0m\u001b[37m\u001b[0m \u001b[1m0s\u001b[0m 3ms/step - loss: 6.4126 - val_loss: 6.7117\n",
      "Epoch 66/100\n",
      "\u001b[1m32/32\u001b[0m \u001b[32m━━━━━━━━━━━━━━━━━━━━\u001b[0m\u001b[37m\u001b[0m \u001b[1m0s\u001b[0m 3ms/step - loss: 4.3315 - val_loss: 2.7746\n",
      "Epoch 67/100\n",
      "\u001b[1m32/32\u001b[0m \u001b[32m━━━━━━━━━━━━━━━━━━━━\u001b[0m\u001b[37m\u001b[0m \u001b[1m0s\u001b[0m 2ms/step - loss: 2.2829 - val_loss: 2.7517\n",
      "Epoch 68/100\n",
      "\u001b[1m32/32\u001b[0m \u001b[32m━━━━━━━━━━━━━━━━━━━━\u001b[0m\u001b[37m\u001b[0m \u001b[1m0s\u001b[0m 2ms/step - loss: 1.7772 - val_loss: 1.5299\n",
      "Epoch 69/100\n",
      "\u001b[1m32/32\u001b[0m \u001b[32m━━━━━━━━━━━━━━━━━━━━\u001b[0m\u001b[37m\u001b[0m \u001b[1m0s\u001b[0m 3ms/step - loss: 1.3638 - val_loss: 1.0953\n",
      "Epoch 70/100\n",
      "\u001b[1m32/32\u001b[0m \u001b[32m━━━━━━━━━━━━━━━━━━━━\u001b[0m\u001b[37m\u001b[0m \u001b[1m0s\u001b[0m 2ms/step - loss: 1.3542 - val_loss: 1.6371\n",
      "Epoch 71/100\n",
      "\u001b[1m32/32\u001b[0m \u001b[32m━━━━━━━━━━━━━━━━━━━━\u001b[0m\u001b[37m\u001b[0m \u001b[1m0s\u001b[0m 2ms/step - loss: 2.3777 - val_loss: 6.2840\n",
      "Epoch 72/100\n",
      "\u001b[1m32/32\u001b[0m \u001b[32m━━━━━━━━━━━━━━━━━━━━\u001b[0m\u001b[37m\u001b[0m \u001b[1m0s\u001b[0m 2ms/step - loss: 13.0139 - val_loss: 144.1786\n",
      "Epoch 73/100\n",
      "\u001b[1m32/32\u001b[0m \u001b[32m━━━━━━━━━━━━━━━━━━━━\u001b[0m\u001b[37m\u001b[0m \u001b[1m0s\u001b[0m 2ms/step - loss: 62.1833 - val_loss: 25.1755\n",
      "Epoch 74/100\n",
      "\u001b[1m32/32\u001b[0m \u001b[32m━━━━━━━━━━━━━━━━━━━━\u001b[0m\u001b[37m\u001b[0m \u001b[1m0s\u001b[0m 2ms/step - loss: 17.1794 - val_loss: 20.8325\n",
      "Epoch 75/100\n",
      "\u001b[1m32/32\u001b[0m \u001b[32m━━━━━━━━━━━━━━━━━━━━\u001b[0m\u001b[37m\u001b[0m \u001b[1m0s\u001b[0m 2ms/step - loss: 16.4008 - val_loss: 11.3159\n",
      "Epoch 76/100\n",
      "\u001b[1m32/32\u001b[0m \u001b[32m━━━━━━━━━━━━━━━━━━━━\u001b[0m\u001b[37m\u001b[0m \u001b[1m0s\u001b[0m 2ms/step - loss: 5.5712 - val_loss: 2.5625\n",
      "Epoch 77/100\n",
      "\u001b[1m32/32\u001b[0m \u001b[32m━━━━━━━━━━━━━━━━━━━━\u001b[0m\u001b[37m\u001b[0m \u001b[1m0s\u001b[0m 2ms/step - loss: 2.0530 - val_loss: 2.9383\n",
      "Epoch 78/100\n",
      "\u001b[1m32/32\u001b[0m \u001b[32m━━━━━━━━━━━━━━━━━━━━\u001b[0m\u001b[37m\u001b[0m \u001b[1m0s\u001b[0m 2ms/step - loss: 2.1481 - val_loss: 1.2748\n",
      "Epoch 79/100\n",
      "\u001b[1m32/32\u001b[0m \u001b[32m━━━━━━━━━━━━━━━━━━━━\u001b[0m\u001b[37m\u001b[0m \u001b[1m0s\u001b[0m 2ms/step - loss: 1.9624 - val_loss: 1.9852\n",
      "Epoch 80/100\n",
      "\u001b[1m32/32\u001b[0m \u001b[32m━━━━━━━━━━━━━━━━━━━━\u001b[0m\u001b[37m\u001b[0m \u001b[1m0s\u001b[0m 3ms/step - loss: 1.7335 - val_loss: 1.0684\n",
      "Epoch 81/100\n",
      "\u001b[1m32/32\u001b[0m \u001b[32m━━━━━━━━━━━━━━━━━━━━\u001b[0m\u001b[37m\u001b[0m \u001b[1m0s\u001b[0m 3ms/step - loss: 1.6100 - val_loss: 3.8426\n",
      "Epoch 82/100\n",
      "\u001b[1m32/32\u001b[0m \u001b[32m━━━━━━━━━━━━━━━━━━━━\u001b[0m\u001b[37m\u001b[0m \u001b[1m0s\u001b[0m 2ms/step - loss: 2.5268 - val_loss: 3.1384\n",
      "Epoch 83/100\n",
      "\u001b[1m32/32\u001b[0m \u001b[32m━━━━━━━━━━━━━━━━━━━━\u001b[0m\u001b[37m\u001b[0m \u001b[1m0s\u001b[0m 2ms/step - loss: 4.7286 - val_loss: 3.5647\n",
      "Epoch 84/100\n",
      "\u001b[1m32/32\u001b[0m \u001b[32m━━━━━━━━━━━━━━━━━━━━\u001b[0m\u001b[37m\u001b[0m \u001b[1m0s\u001b[0m 3ms/step - loss: 2.8867 - val_loss: 1.9989\n",
      "Epoch 85/100\n",
      "\u001b[1m32/32\u001b[0m \u001b[32m━━━━━━━━━━━━━━━━━━━━\u001b[0m\u001b[37m\u001b[0m \u001b[1m0s\u001b[0m 3ms/step - loss: 4.0371 - val_loss: 1.4119\n",
      "Epoch 86/100\n",
      "\u001b[1m32/32\u001b[0m \u001b[32m━━━━━━━━━━━━━━━━━━━━\u001b[0m\u001b[37m\u001b[0m \u001b[1m0s\u001b[0m 2ms/step - loss: 2.1600 - val_loss: 3.6659\n",
      "Epoch 87/100\n",
      "\u001b[1m32/32\u001b[0m \u001b[32m━━━━━━━━━━━━━━━━━━━━\u001b[0m\u001b[37m\u001b[0m \u001b[1m0s\u001b[0m 2ms/step - loss: 6.6609 - val_loss: 4.5472\n",
      "Epoch 88/100\n",
      "\u001b[1m32/32\u001b[0m \u001b[32m━━━━━━━━━━━━━━━━━━━━\u001b[0m\u001b[37m\u001b[0m \u001b[1m0s\u001b[0m 3ms/step - loss: 3.0973 - val_loss: 3.4333\n",
      "Epoch 89/100\n",
      "\u001b[1m32/32\u001b[0m \u001b[32m━━━━━━━━━━━━━━━━━━━━\u001b[0m\u001b[37m\u001b[0m \u001b[1m0s\u001b[0m 3ms/step - loss: 2.8054 - val_loss: 2.1609\n",
      "Epoch 90/100\n",
      "\u001b[1m32/32\u001b[0m \u001b[32m━━━━━━━━━━━━━━━━━━━━\u001b[0m\u001b[37m\u001b[0m \u001b[1m0s\u001b[0m 2ms/step - loss: 1.6415 - val_loss: 1.3281\n",
      "Epoch 91/100\n",
      "\u001b[1m32/32\u001b[0m \u001b[32m━━━━━━━━━━━━━━━━━━━━\u001b[0m\u001b[37m\u001b[0m \u001b[1m0s\u001b[0m 4ms/step - loss: 1.3939 - val_loss: 1.7597\n",
      "Epoch 92/100\n",
      "\u001b[1m32/32\u001b[0m \u001b[32m━━━━━━━━━━━━━━━━━━━━\u001b[0m\u001b[37m\u001b[0m \u001b[1m0s\u001b[0m 3ms/step - loss: 2.0060 - val_loss: 3.0839\n",
      "Epoch 93/100\n",
      "\u001b[1m32/32\u001b[0m \u001b[32m━━━━━━━━━━━━━━━━━━━━\u001b[0m\u001b[37m\u001b[0m \u001b[1m0s\u001b[0m 2ms/step - loss: 2.3815 - val_loss: 2.4992\n",
      "Epoch 94/100\n",
      "\u001b[1m32/32\u001b[0m \u001b[32m━━━━━━━━━━━━━━━━━━━━\u001b[0m\u001b[37m\u001b[0m \u001b[1m0s\u001b[0m 2ms/step - loss: 2.7802 - val_loss: 1.6129\n",
      "Epoch 95/100\n",
      "\u001b[1m32/32\u001b[0m \u001b[32m━━━━━━━━━━━━━━━━━━━━\u001b[0m\u001b[37m\u001b[0m \u001b[1m0s\u001b[0m 2ms/step - loss: 1.9412 - val_loss: 1.8182\n",
      "Epoch 96/100\n",
      "\u001b[1m32/32\u001b[0m \u001b[32m━━━━━━━━━━━━━━━━━━━━\u001b[0m\u001b[37m\u001b[0m \u001b[1m0s\u001b[0m 3ms/step - loss: 2.2393 - val_loss: 3.5324\n",
      "Epoch 97/100\n",
      "\u001b[1m32/32\u001b[0m \u001b[32m━━━━━━━━━━━━━━━━━━━━\u001b[0m\u001b[37m\u001b[0m \u001b[1m0s\u001b[0m 2ms/step - loss: 1.8066 - val_loss: 11.0662\n",
      "Epoch 98/100\n",
      "\u001b[1m32/32\u001b[0m \u001b[32m━━━━━━━━━━━━━━━━━━━━\u001b[0m\u001b[37m\u001b[0m \u001b[1m0s\u001b[0m 2ms/step - loss: 5.3773 - val_loss: 8.9501\n",
      "Epoch 99/100\n",
      "\u001b[1m32/32\u001b[0m \u001b[32m━━━━━━━━━━━━━━━━━━━━\u001b[0m\u001b[37m\u001b[0m \u001b[1m0s\u001b[0m 3ms/step - loss: 19.5817 - val_loss: 77.9086\n",
      "Epoch 100/100\n",
      "\u001b[1m32/32\u001b[0m \u001b[32m━━━━━━━━━━━━━━━━━━━━\u001b[0m\u001b[37m\u001b[0m \u001b[1m0s\u001b[0m 3ms/step - loss: 28.1451 - val_loss: 1.9193\n"
     ]
    },
    {
     "data": {
      "text/plain": [
       "<keras.src.callbacks.history.History at 0x1edae2a4e10>"
      ]
     },
     "execution_count": 92,
     "metadata": {},
     "output_type": "execute_result"
    }
   ],
   "source": [
    "model.fit(x_train, y_train, validation_data=(x_test, y_test), batch_size=32, epochs=100)"
   ]
  },
  {
   "cell_type": "code",
   "execution_count": 93,
   "id": "48a8f231-2064-454c-b54b-e27e5538f359",
   "metadata": {},
   "outputs": [
    {
     "name": "stdout",
     "output_type": "stream",
     "text": [
      "\u001b[1m8/8\u001b[0m \u001b[32m━━━━━━━━━━━━━━━━━━━━\u001b[0m\u001b[37m\u001b[0m \u001b[1m0s\u001b[0m 7ms/step\n"
     ]
    }
   ],
   "source": [
    "tahmin=model.predict(x_test)"
   ]
  },
  {
   "cell_type": "code",
   "execution_count": 94,
   "id": "25fc70ef-3bde-43db-9e43-a10b71974153",
   "metadata": {},
   "outputs": [],
   "source": [
    "from sklearn.metrics import r2_score, mean_squared_error"
   ]
  },
  {
   "cell_type": "code",
   "execution_count": 95,
   "id": "fcbbf206-5286-4b8d-9330-224bac8515d9",
   "metadata": {},
   "outputs": [
    {
     "data": {
      "text/plain": [
       "-0.681249453719659"
      ]
     },
     "execution_count": 95,
     "metadata": {},
     "output_type": "execute_result"
    }
   ],
   "source": [
    "r2_score(y_test,tahmin)"
   ]
  },
  {
   "cell_type": "code",
   "execution_count": 96,
   "id": "ef8b1b8f-f7c7-47bb-8481-376750996aed",
   "metadata": {},
   "outputs": [
    {
     "data": {
      "text/plain": [
       "1.3854877402080163"
      ]
     },
     "execution_count": 96,
     "metadata": {},
     "output_type": "execute_result"
    }
   ],
   "source": [
    "mean_squared_error(y_test,tahmin)**.5"
   ]
  },
  {
   "cell_type": "code",
   "execution_count": null,
   "id": "0a1d3405-9058-4942-85bb-138f277e6dbf",
   "metadata": {},
   "outputs": [],
   "source": [
    "* Deep learningle r2 %68 üstüne çıkamadı,model başarısız oldu"
   ]
  }
 ],
 "metadata": {
  "kernelspec": {
   "display_name": "Python 3 (ipykernel)",
   "language": "python",
   "name": "python3"
  },
  "language_info": {
   "codemirror_mode": {
    "name": "ipython",
    "version": 3
   },
   "file_extension": ".py",
   "mimetype": "text/x-python",
   "name": "python",
   "nbconvert_exporter": "python",
   "pygments_lexer": "ipython3",
   "version": "3.12.4"
  }
 },
 "nbformat": 4,
 "nbformat_minor": 5
}
